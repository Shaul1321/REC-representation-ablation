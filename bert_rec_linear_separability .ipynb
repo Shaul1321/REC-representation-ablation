{
 "cells": [
  {
   "cell_type": "code",
   "execution_count": 2,
   "metadata": {},
   "outputs": [
    {
     "name": "stderr",
     "output_type": "stream",
     "text": [
      "INFO:transformers.file_utils:PyTorch version 1.4.0 available.\n"
     ]
    }
   ],
   "source": [
    "import os\n",
    "import torch\n",
    "from torch import nn\n",
    "from torch.nn import functional as F\n",
    "from torch.utils.data import DataLoader\n",
    "#from torchvision.datasets import MNIST\n",
    "#import torchvision.transforms as transforms\n",
    "from torch.utils.data import Dataset\n",
    "import spacy\n",
    "#import pytorch_lightning as pl\n",
    "#from pytorch_lightning import Trainer\n",
    "import matplotlib.pyplot as plt\n",
    "import numpy as np\n",
    "from scipy import linalg\n",
    "import scipy\n",
    "from sklearn.manifold import TSNE\n",
    "import sklearn\n",
    "from sklearn.linear_model import LinearRegression, Ridge, SGDClassifier\n",
    "from sklearn.svm import LinearSVC, SVR\n",
    "from sklearn.multioutput import MultiOutputRegressor\n",
    "#from sklearn.datasets import fetch_mldata\n",
    "from sklearn.decomposition import PCA\n",
    "import scipy.io\n",
    "import random\n",
    "import inlp\n",
    "from sklearn.manifold import TSNE\n",
    "import matplotlib\n",
    "import matplotlib.pyplot as plt\n",
    "from sklearn.cluster import KMeans\n",
    "import torch\n",
    "from transformers import BertTokenizer, BertModel, BertForMaskedLM, BertConfig, RobertaModel, RobertaForMaskedLM, RobertaTokenizer, RobertaConfig\n",
    "from typing import Tuple, Dict\n",
    "from typing import List\n",
    "import tqdm\n",
    "from tqdm import tqdm_notebook\n",
    "import urllib\n",
    "import time\n",
    "import pickle\n",
    "import inlp, inlp_dataset_handler, inlp_linear_model\n",
    "import copy\n",
    "%load_ext autoreload\n",
    "%autoreload"
   ]
  },
  {
   "cell_type": "code",
   "execution_count": 3,
   "metadata": {},
   "outputs": [],
   "source": [
    "def load_wiki(url = \"http://nlp.biu.ac.il/~ravfogs/resources/wiki.1million.raw.txt\"):\n",
    "    \n",
    "  response = urllib.request.urlopen(url)\n",
    "  raw = response.read().decode('utf8')\n",
    "  sents = raw.split(\"\\n\")\n",
    "  \n",
    "  return sents[:]\n",
    "\n",
    "\n",
    "def create_docs(sentences: List[str]) -> List[spacy.tokens.Doc]:\n",
    "\n",
    "    #parsing and toekenizing (NOTE: takes about 10 minutes)\n",
    "    \n",
    "    nlp = spacy.load('en_core_web_sm')\n",
    "    nlp.remove_pipe(\"ner\")\n",
    "    \n",
    "    start = time.time()\n",
    "    \n",
    "    docs = list(nlp.pipe(sentences, batch_size = 100))\n",
    "    \n",
    "    docs = list(docs)\n",
    "    print(time.time() - start)\n",
    "    \n",
    "    return docs\n",
    "\n",
    "\n",
    "def collect_rec_dataset(docs, n):\n",
    "    \n",
    "    contain_rec = []\n",
    "    for i, doc in tqdm_notebook(enumerate(docs), total = len(docs)):\n",
    "        deps = [tok.dep_ for tok in doc]\n",
    "        if \"relcl\" in deps:\n",
    "            contain_rec.append(doc)\n",
    "    \n",
    "    contain_rec_set = set(contain_rec)\n",
    "    no_rec = [d for d in docs if d not in contain_rec_set]\n",
    "    data = []\n",
    "    for i in range(n):\n",
    "        \n",
    "        doc_with_rec = random.choice(contain_rec)\n",
    "        rec_root = random.choice([tok for tok in doc_with_rec if tok.dep_ == \"relcl\"])\n",
    "        rec_subtree = list(rec_root.subtree)\n",
    "        rec_borders = (rec_subtree[0].i, rec_subtree[-1].i)\n",
    "        rec_subtree_text = [tok.text for tok in rec_subtree]\n",
    "        is_reduced_relc = \"that\" not in rec_subtree_text and \"which\" not in rec_subtree_text and \"who\" not in rec_subtree_text and \"whom\" not in rec_subtree_text and \"whose\" not in rec_subtree_text and \"where\" not in rec_subtree_text \n",
    "        \n",
    "        # add positive & negative examples\n",
    "        \n",
    "        data.append({\"doc\": doc_with_rec, \"relc_borders\": rec_borders, \"is_reduced\": is_reduced_relc, \"relc_root_ind\": rec_root.i, \"label\": 1})\n",
    "        data.append({\"doc\": random.choice(no_rec), \"relc_borders\": None, \"is_reduced\": None, \"relc_root_ind\": None, \"label\": 0})\n",
    "    \n",
    "    random.shuffle(data)\n",
    "    return data\n",
    "    "
   ]
  },
  {
   "cell_type": "code",
   "execution_count": 6,
   "metadata": {},
   "outputs": [],
   "source": [
    "wiki_sents = load_wiki()"
   ]
  },
  {
   "cell_type": "code",
   "execution_count": 7,
   "metadata": {},
   "outputs": [
    {
     "name": "stdout",
     "output_type": "stream",
     "text": [
      "280.4957218170166\n"
     ]
    }
   ],
   "source": [
    "wiki_sents = wiki_sents[:200000]\n",
    "docs = create_docs(wiki_sents)"
   ]
  },
  {
   "cell_type": "code",
   "execution_count": 9,
   "metadata": {},
   "outputs": [],
   "source": [
    "with open(\"sents.pickle\", \"wb\") as f:\n",
    "    pickle.dump(wiki_sents, f)\n",
    "    \n",
    "with open(\"docs.pickle\", \"wb\") as f:\n",
    "    pickle.dump(docs, f)"
   ]
  },
  {
   "cell_type": "code",
   "execution_count": 4,
   "metadata": {},
   "outputs": [],
   "source": [
    "with open(\"docs.pickle\", \"rb\") as f:\n",
    "    docs = pickle.load(f)"
   ]
  },
  {
   "cell_type": "code",
   "execution_count": 7,
   "metadata": {},
   "outputs": [
    {
     "name": "stderr",
     "output_type": "stream",
     "text": [
      "/home/shauli/anaconda3/envs/py3/lib/python3.7/site-packages/ipykernel_launcher.py:30: TqdmDeprecationWarning: This function will be removed in tqdm==5.0.0\n",
      "Please use `tqdm.notebook.tqdm` instead of `tqdm.tqdm_notebook`\n"
     ]
    },
    {
     "data": {
      "application/vnd.jupyter.widget-view+json": {
       "model_id": "ee9e345c5acc49c6ab275bb1c4d886ad",
       "version_major": 2,
       "version_minor": 0
      },
      "text/plain": [
       "HBox(children=(FloatProgress(value=0.0, max=164321.0), HTML(value='')))"
      ]
     },
     "metadata": {},
     "output_type": "display_data"
    },
    {
     "name": "stdout",
     "output_type": "stream",
     "text": [
      "\n"
     ]
    }
   ],
   "source": [
    "docs = [d for d in docs if len(d) > 11]\n",
    "data = collect_rec_dataset(docs, n = 25000)"
   ]
  },
  {
   "cell_type": "code",
   "execution_count": 10,
   "metadata": {},
   "outputs": [
    {
     "name": "stdout",
     "output_type": "stream",
     "text": [
      "\n",
      "under the premise it has been empty for at least 4 days when you emptied it minutes ago is\n",
      ") in 1984 to protect the common national heritage,\n",
      "every time cluebot ng reverts an edit,\n",
      "not a reason to delete.\n",
      "all three passes he attempted for 43 yards,\n",
      "first american university to award a ph.\n",
      "of the time the place of agreement was in katajanokka.\n",
      "hagoromo club, to earn its jsl second division place back in 1974).\n",
      "with the reception he everywhere met with from all ranks, with the extraordinary concourse of people from all parts on the occasion, and with the handsome appearance of the militia, both horse and foot.\n"
     ]
    }
   ],
   "source": [
    "reduced = [d for d in data if d[\"is_reduced\"]]\n",
    "for r in reduced[:10]:\n",
    "    min_ind, max_ind = r[\"relc_borders\"]\n",
    "    print(r[\"doc\"][min_ind-3:max_ind+2])"
   ]
  },
  {
   "cell_type": "markdown",
   "metadata": {},
   "source": [
    "## Encoder"
   ]
  },
  {
   "cell_type": "code",
   "execution_count": 11,
   "metadata": {},
   "outputs": [],
   "source": [
    "class BertEncoder(object):\n",
    "    \n",
    "    def __init__(self, device = 'cpu'):\n",
    "\n",
    "        config = BertConfig.from_pretrained(\"bert-large-uncased-whole-word-masking\", output_hidden_states=True)\n",
    "        self.tokenizer = BertTokenizer.from_pretrained('bert-large-uncased-whole-word-masking')\n",
    "        self.model = BertModel.from_pretrained('bert-large-uncased-whole-word-masking', config = config)\n",
    "        \n",
    "        #config = RobertaConfig.from_pretrained(\"roberta-base\", output_hidden_states=True)\n",
    "        #self.tokenizer = RobertaTokenizer.from_pretrained('roberta-base')\n",
    "        #self.model = RobertaModel.from_pretrained('roberta-base', config = config)\n",
    "            \n",
    "        self.model.eval()\n",
    "        self.model.to(device)\n",
    "        self.device = device\n",
    "        \n",
    "    def tokenize(self, original_sentence: List[str]) -> Tuple[List[str], Dict[int, int]]:\n",
    "\n",
    "        \"\"\"\n",
    "        Parameters\n",
    "        ----------\n",
    "        Returns\n",
    "        -------\n",
    "        bert_tokens: The sentence, tokenized by BERT tokenizer.\n",
    "        orig_to_tok_map: An output dictionary consisting of a mapping (alignment) between indices in the original tokenized sentence, and indices in the sentence tokenized by the BERT tokenizer. See https://github.com/google-research/bert\n",
    "        \"\"\"\n",
    "\n",
    "        bert_tokens = [\"[CLS]\"]\n",
    "        orig_to_tok_map = {}\n",
    "        has_subwords = False\n",
    "        is_subword = []\n",
    "\n",
    "        for i, w in enumerate(original_sentence):\n",
    "            tokenized_w = self.tokenizer.tokenize(w)\n",
    "            has_subwords = len(tokenized_w) > 1\n",
    "            is_subword.append(has_subwords)\n",
    "            bert_tokens.extend(tokenized_w)\n",
    "\n",
    "            orig_to_tok_map[i] = len(bert_tokens) - 1\n",
    "\n",
    "        bert_tokens.append(\"[SEP]\")\n",
    "        \n",
    "        return (bert_tokens, orig_to_tok_map)\n",
    "\n",
    "    \n",
    "    def encode(self, sentence: str, layers: List[int]):\n",
    "        \n",
    "        tokenized_text, orig2tok = self.tokenize(sentence.split(\" \"))\n",
    "        indexed_tokens = self.tokenizer.convert_tokens_to_ids(tokenized_text)\n",
    "        tokens_tensor = torch.tensor([indexed_tokens]).to(self.device)\n",
    "\n",
    "        with torch.no_grad():\n",
    "            outputs = self.model(tokens_tensor)\n",
    "            predictions = torch.cat([outputs[2][l] for l in layers], axis = 2).detach().cpu().numpy()\n",
    "            \n",
    "            \"\"\"\n",
    "            if layer >= 0:\n",
    "                predictions = outputs[2][layer].detach().cpu().numpy()\n",
    "            else:\n",
    "                concat = torch.cat(outputs[2], axis = 0)\n",
    "                concat = concat[:7, :, :]\n",
    "                predictions = concat.reshape(concat.shape[1], concat.shape[0] * concat.shape[2])\n",
    "                \n",
    "                print(predictions.shape)\n",
    "                print(\"----------------------------\")\n",
    "                #predictions = torch.sum(concat, axis = 0).detach().cpu().numpy()\n",
    "            \"\"\"\n",
    "            return (predictions.squeeze(), orig2tok)\n",
    "        \n",
    "\n",
    "def collect_bert_states(bert, data: List[Tuple], layers: List[int], by_rec = True, strategy = \"mean\"):\n",
    "    \n",
    "    \n",
    "    for i,d in tqdm_notebook(enumerate(data), total = len(data)):\n",
    "        \n",
    "        doc, rec_borders, is_reduced, relc_root_i, label = d[\"doc\"], d[\"relc_borders\"], d[\"is_reduced\"], d[\"relc_root_ind\"], d[\"label\"]\n",
    "        sent = \" \".join([tok.text for tok in doc])\n",
    "        preds, orig2tok = bert.encode(sent, layers = layers)\n",
    "\n",
    "        \n",
    "        if by_rec:\n",
    "            \n",
    "                ind = random.choice(range(preds.shape[0]))\n",
    "                d = random.choice(range(2, 10))\n",
    "                min_relcl_ind, max_relcl_nax = orig2tok[rec_borders[0]], orig2tok[rec_borders[1]]\n",
    "                \n",
    "                if strategy == \"mean\":\n",
    "                    if label == 1:\n",
    "                        \n",
    "                        states = np.mean(preds[min_relcl_ind-1:max_relcl_nax+1, :], axis = 0)\n",
    "                    else:\n",
    "                        states = np.mean(preds[ind: ind + d, :], axis = 0)\n",
    "                elif strategy == \"sum\":\n",
    "                    if label == 1:\n",
    "                         states = np.sum(preds[min_relcl_ind-1:max_relcl_nax+1, :], axis = 0)   \n",
    "                    else:\n",
    "                         states = np.sum(preds[ind: ind + d, :], axis = 0)                            \n",
    "                elif strategy == \"root\":      \n",
    "                    if label == 1:\n",
    "                        states = preds[orig2tok[relc_root_i], :]\n",
    "                    else:\n",
    "\n",
    "                        states = preds[np.minimum(ind + d, len(preds) - 1)]               \n",
    "                else:\n",
    "                    raise Exception(\"Strategy {} not supported\".format(strategy))                \n",
    "                \n",
    "        else:\n",
    "            cls_state = preds[0]\n",
    "            avg_state = np.mean(preds, axis = 0)\n",
    "            sum_state = np.sum(preds, axis = 0)\n",
    "            max_state = np.max(preds, axis = 0)\n",
    "            min_state = np.min(preds, axis = 0)\n",
    "            \n",
    "            if strategy == \"cls\":\n",
    "                states = cls_state\n",
    "            elif strategy == \"mean\":\n",
    "                states = avg_state\n",
    "            elif strategy == \"sum\":\n",
    "                states = sum_state\n",
    "            elif strategy == \"max_min\":\n",
    "                states = np.concatenate([min_state, max_state])\n",
    "            else:\n",
    "                raise Exception(\"Strategy {} not supported\".format(strategy))\n",
    "                \n",
    "        data[i][\"vec\"] = states\n",
    "    \n",
    "    return data\n"
   ]
  },
  {
   "cell_type": "code",
   "execution_count": 22,
   "metadata": {},
   "outputs": [
    {
     "name": "stderr",
     "output_type": "stream",
     "text": [
      "INFO:transformers.configuration_utils:loading configuration file https://s3.amazonaws.com/models.huggingface.co/bert/bert-large-uncased-whole-word-masking-config.json from cache at /home/shauli/.cache/torch/transformers/acdf0fd9c7a1b157516c5c0434216c72438b384fb6ddeeaa20d67e83d1fef81f.fc076a4d5f1edf25ea3a2bd66e9f6f295dcd64c81dfef5b3f5a3eb2a82751ad1\n",
      "INFO:transformers.configuration_utils:Model config BertConfig {\n",
      "  \"architectures\": [\n",
      "    \"BertForMaskedLM\"\n",
      "  ],\n",
      "  \"attention_probs_dropout_prob\": 0.1,\n",
      "  \"bos_token_id\": 0,\n",
      "  \"do_sample\": false,\n",
      "  \"eos_token_ids\": 0,\n",
      "  \"finetuning_task\": null,\n",
      "  \"hidden_act\": \"gelu\",\n",
      "  \"hidden_dropout_prob\": 0.1,\n",
      "  \"hidden_size\": 1024,\n",
      "  \"id2label\": {\n",
      "    \"0\": \"LABEL_0\",\n",
      "    \"1\": \"LABEL_1\"\n",
      "  },\n",
      "  \"initializer_range\": 0.02,\n",
      "  \"intermediate_size\": 4096,\n",
      "  \"is_decoder\": false,\n",
      "  \"label2id\": {\n",
      "    \"LABEL_0\": 0,\n",
      "    \"LABEL_1\": 1\n",
      "  },\n",
      "  \"layer_norm_eps\": 1e-12,\n",
      "  \"length_penalty\": 1.0,\n",
      "  \"max_length\": 20,\n",
      "  \"max_position_embeddings\": 512,\n",
      "  \"model_type\": \"bert\",\n",
      "  \"num_attention_heads\": 16,\n",
      "  \"num_beams\": 1,\n",
      "  \"num_hidden_layers\": 24,\n",
      "  \"num_labels\": 2,\n",
      "  \"num_return_sequences\": 1,\n",
      "  \"output_attentions\": false,\n",
      "  \"output_hidden_states\": true,\n",
      "  \"output_past\": true,\n",
      "  \"pad_token_id\": 0,\n",
      "  \"pruned_heads\": {},\n",
      "  \"repetition_penalty\": 1.0,\n",
      "  \"temperature\": 1.0,\n",
      "  \"top_k\": 50,\n",
      "  \"top_p\": 1.0,\n",
      "  \"torchscript\": false,\n",
      "  \"type_vocab_size\": 2,\n",
      "  \"use_bfloat16\": false,\n",
      "  \"vocab_size\": 30522\n",
      "}\n",
      "\n",
      "INFO:transformers.tokenization_utils:loading file https://s3.amazonaws.com/models.huggingface.co/bert/bert-large-uncased-whole-word-masking-vocab.txt from cache at /home/shauli/.cache/torch/transformers/b3a6b2c6d7ea2ffa06d0e7577c1e88b94fad470ae0f060a4ffef3fe0bdf86730.542ce4285a40d23a559526243235df47c5f75c197f04f37d1a0c124c32c9a084\n",
      "INFO:transformers.modeling_utils:loading weights file https://s3.amazonaws.com/models.huggingface.co/bert/bert-large-uncased-whole-word-masking-pytorch_model.bin from cache at /home/shauli/.cache/torch/transformers/66cc7a7501e3499efedc37e47b3a613e0d3d8d0a51c66224c69f0c669b52dcfb.ae11cc7f2a26b857b76b404a908c7abad793f88bf8ad95caecff154da87994b1\n"
     ]
    },
    {
     "name": "stdout",
     "output_type": "stream",
     "text": [
      "50000\n"
     ]
    },
    {
     "name": "stderr",
     "output_type": "stream",
     "text": [
      "/home/shauli/anaconda3/envs/py3/lib/python3.7/site-packages/ipykernel_launcher.py:74: TqdmDeprecationWarning: This function will be removed in tqdm==5.0.0\n",
      "Please use `tqdm.notebook.tqdm` instead of `tqdm.tqdm_notebook`\n"
     ]
    },
    {
     "data": {
      "application/vnd.jupyter.widget-view+json": {
       "model_id": "b99c69297a214acb8d76d90bbf958103",
       "version_major": 2,
       "version_minor": 0
      },
      "text/plain": [
       "HBox(children=(FloatProgress(value=0.0, max=1500.0), HTML(value='')))"
      ]
     },
     "metadata": {},
     "output_type": "display_data"
    },
    {
     "name": "stdout",
     "output_type": "stream",
     "text": [
      "\n"
     ]
    }
   ],
   "source": [
    "bert = BertEncoder(device = \"cpu\")\n",
    "print(len(data))\n",
    "data_with_bert_states = collect_bert_states(bert, copy.deepcopy(data[:1500]), layers = [6], by_rec = False, strategy = \"cls\")\n",
    "#data_with_bert_states = collect_bert_states(bert, copy.deepcopy(data[:2000]), layers = [-1], by_rec = True, strategy = \"sum\")"
   ]
  },
  {
   "cell_type": "markdown",
   "metadata": {},
   "source": [
    "## Find best layer"
   ]
  },
  {
   "cell_type": "code",
   "execution_count": null,
   "metadata": {},
   "outputs": [
    {
     "name": "stderr",
     "output_type": "stream",
     "text": [
      "/home/shauli/anaconda3/envs/py3/lib/python3.7/site-packages/ipykernel_launcher.py:74: TqdmDeprecationWarning: This function will be removed in tqdm==5.0.0\n",
      "Please use `tqdm.notebook.tqdm` instead of `tqdm.tqdm_notebook`\n"
     ]
    },
    {
     "data": {
      "application/vnd.jupyter.widget-view+json": {
       "model_id": "a4b4c3b9a46e4530b9d9b22752c016ce",
       "version_major": 2,
       "version_minor": 0
      },
      "text/plain": [
       "HBox(children=(FloatProgress(value=0.0, max=750.0), HTML(value='')))"
      ]
     },
     "metadata": {},
     "output_type": "display_data"
    },
    {
     "name": "stdout",
     "output_type": "stream",
     "text": [
      "\n",
      "1 0.7693333333333333\n"
     ]
    }
   ],
   "source": [
    "\n",
    "\n",
    "for layer in range(1, 24):\n",
    "    \n",
    "    data_with_bert_states = collect_bert_states(bert, copy.deepcopy(data[:750]), layers = [layer], by_rec = False, strategy = \"sum\")    \n",
    "    \n",
    "    vecs, labels = np.array([d[\"vec\"] for d in data_with_bert_states]), np.array([d[\"label\"] for d in data_with_bert_states])\n",
    "    l = int(len(vecs) * 0.8)\n",
    "    x_train, x_dev = vecs[:l], vecs[l:]\n",
    "    y_train, y_dev = labels[:l], labels[l:]\n",
    "\n",
    "    avg = 0\n",
    "    k = 10\n",
    "    for i in range(k):\n",
    "        model = LinearSVC(dual = False, max_iter = 10000) #SGDClassifier(max_iter = 200)\n",
    "        model = SGDClassifier(max_iter = 10000, alpha = 0.01)\n",
    "        model.fit(x_train, y_train)\n",
    "        score = model.score(x_dev, y_dev)\n",
    "        avg += score\n",
    "        \n",
    "    print(layer, avg/k)"
   ]
  },
  {
   "cell_type": "code",
   "execution_count": 119,
   "metadata": {},
   "outputs": [],
   "source": [
    "with open(\"data_with_bert-large_states.pickle\", \"wb\") as f:\n",
    "    \n",
    "    pickle.dump(data_with_bert_states, f)"
   ]
  },
  {
   "cell_type": "markdown",
   "metadata": {},
   "source": [
    "## Do BERT CLS states clsuter to groups according to the presence of REC?"
   ]
  },
  {
   "cell_type": "code",
   "execution_count": 23,
   "metadata": {},
   "outputs": [],
   "source": [
    "def tsne(vecs, labels, title=\"\", ind2label = None, words = None, metric = \"l2\", color_gradient = False):\n",
    "\n",
    "  tsne = TSNE(n_components=2, random_state=0, metric = metric)\n",
    "  vecs_2d = tsne.fit_transform(vecs)\n",
    "  label_names = sorted(list(set(labels.tolist())))\n",
    "  num_labels = len(label_names)\n",
    "\n",
    "  #names = [\"digit={}\".format(int(i)) for i in labels.tolist()]\n",
    "  #names = [\"class {}\".format(i) for i in range(num_labels)]\n",
    "  names = sorted(set(labels.tolist()))\n",
    "  \n",
    "\n",
    "  if not color_gradient:\n",
    "      plt.figure(figsize=(6, 5))\n",
    "      colors = \"red\", \"blue\"\n",
    "      #colors = [(255,13,12) for n in names]\n",
    "    \n",
    "      for i, c, label in zip(sorted(set(labels.tolist())), colors, names):\n",
    "        #print(len(vecs_2d[labels == i, 0]))\n",
    "        plt.scatter(vecs_2d[labels == i, 0], vecs_2d[labels == i, 1], c=c,\n",
    "                    label=label if ind2label is None else ind2label[label], alpha = 0.3)\n",
    "      plt.legend()\n",
    "  \n",
    "\n",
    "  plt.title(title)"
   ]
  },
  {
   "cell_type": "code",
   "execution_count": 24,
   "metadata": {},
   "outputs": [],
   "source": [
    "vecs, labels = np.array([d[\"vec\"] for d in data_with_bert_states]), np.array([d[\"label\"] for d in data_with_bert_states])\n",
    "l = int(len(vecs) * 0.8)\n",
    "x_train, x_dev = vecs[:l], vecs[l:]\n",
    "y_train, y_dev = labels[:l], labels[l:]"
   ]
  },
  {
   "cell_type": "code",
   "execution_count": 25,
   "metadata": {},
   "outputs": [
    {
     "data": {
      "image/png": "[encoded data removed]",
      "text/plain": [
       "<Figure size 432x360 with 1 Axes>"
      ]
     },
     "metadata": {
      "needs_background": "light"
     },
     "output_type": "display_data"
    }
   ],
   "source": [
    "tsne(x_dev[:2500, :], y_dev[:2500], ind2label = {1: \"relcl\", 0: \"no-relc\"})"
   ]
  },
  {
   "cell_type": "markdown",
   "metadata": {},
   "source": [
    "## Predict the presence of REC from the representation"
   ]
  },
  {
   "cell_type": "code",
   "execution_count": 29,
   "metadata": {},
   "outputs": [
    {
     "name": "stdout",
     "output_type": "stream",
     "text": [
      "0.71\n",
      "[[ 0.00346046 -0.05922913  0.07079636 ...  0.0158173  -0.23987198\n",
      "   0.04751878]]\n"
     ]
    }
   ],
   "source": [
    "model = LinearSVC(dual = False, max_iter = 10000) #SGDClassifier(max_iter = 200)\n",
    "model = SGDClassifier(max_iter = 10000, alpha = 0.01)\n",
    "model.fit(x_train, y_train)\n",
    "print(model.score(x_dev, y_dev))\n",
    "print(model.coef_)"
   ]
  },
  {
   "cell_type": "markdown",
   "metadata": {},
   "source": [
    "## INLP"
   ]
  },
  {
   "cell_type": "code",
   "execution_count": 30,
   "metadata": {},
   "outputs": [],
   "source": [
    "inlp_dataset = inlp_dataset_handler.ClassificationDatasetHandler(x_train, y_train, x_dev, y_dev, dropout_rate = 0, Y_train_main = None, Y_dev_main = None, by_class = False, equal_chance_for_main_task_labels = False)\n",
    "#inlp_model_handler = inlp_linear_model.SKlearnClassifier(LinearSVC, {\"dual\": False, \"max_iter\": 2000})\n",
    "inlp_model_handler = inlp_linear_model.SKlearnClassifier(SGDClassifier, {\"max_iter\": 10000, \"alpha\": 0.01, \"n_iter_no_change\": 10})"
   ]
  },
  {
   "cell_type": "code",
   "execution_count": 31,
   "metadata": {},
   "outputs": [
    {
     "name": "stderr",
     "output_type": "stream",
     "text": [
      "iteration: 9, accuracy: 0.5166666666666667: 100%|██████████| 10/10 [00:03<00:00,  2.73it/s]\n"
     ]
    }
   ],
   "source": [
    "P, rowspace_projections, Ws = inlp.run_INLP(num_classifiers = 10, input_dim = 1024, is_autoregressive = True, min_accuracy = 0, dataset_handler = inlp_dataset, model = inlp_model_handler)"
   ]
  },
  {
   "cell_type": "code",
   "execution_count": 32,
   "metadata": {},
   "outputs": [],
   "source": [
    "P_rowspace = np.eye(P.shape[0]) - P"
   ]
  },
  {
   "cell_type": "code",
   "execution_count": 33,
   "metadata": {},
   "outputs": [],
   "source": [
    "relc_vecs = np.array([x for x,y in zip(x_train, y_train) if y == 1])\n",
    "relc_data = [d for d in data_with_bert_states[:l] if d[\"label\"] == 1]\n",
    "relc_vecs.shape\n",
    "relc_vecs_projected = P_rowspace.dot(relc_vecs.T).T"
   ]
  },
  {
   "cell_type": "code",
   "execution_count": 34,
   "metadata": {},
   "outputs": [
    {
     "data": {
      "image/png": "[encoded data removed]",
      "text/plain": [
       "<Figure size 432x360 with 1 Axes>"
      ]
     },
     "metadata": {
      "needs_background": "light"
     },
     "output_type": "display_data"
    }
   ],
   "source": [
    "tsne_labels = np.array([1 if d[\"is_reduced\"] else 0 for d in relc_data])\n",
    "tsne(relc_vecs_projected, tsne_labels, ind2label = {1: \"reduced_relc\", 0: \"not-reduced-relcl\"})"
   ]
  },
  {
   "cell_type": "code",
   "execution_count": 35,
   "metadata": {},
   "outputs": [
    {
     "data": {
      "text/plain": [
       "array([[-0.00646212, -0.0092174 ,  0.01169517, ...,  0.01303763,\n",
       "        -0.02124622, -0.00875937]])"
      ]
     },
     "execution_count": 35,
     "metadata": {},
     "output_type": "execute_result"
    }
   ],
   "source": [
    "Ws[-5]"
   ]
  },
  {
   "cell_type": "code",
   "execution_count": null,
   "metadata": {},
   "outputs": [],
   "source": []
  }
 ],
 "metadata": {
  "kernelspec": {
   "display_name": "Python 3",
   "language": "python",
   "name": "python3"
  },
  "language_info": {
   "codemirror_mode": {
    "name": "ipython",
    "version": 3
   },
   "file_extension": ".py",
   "mimetype": "text/x-python",
   "name": "python",
   "nbconvert_exporter": "python",
   "pygments_lexer": "ipython3",
   "version": "3.7.6"
  }
 },
 "nbformat": 4,
 "nbformat_minor": 4
}
