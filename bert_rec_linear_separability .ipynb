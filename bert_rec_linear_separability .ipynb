{
 "cells": [
  {
   "cell_type": "code",
   "execution_count": 1,
   "metadata": {},
   "outputs": [
    {
     "name": "stderr",
     "output_type": "stream",
     "text": [
      "INFO:transformers.file_utils:PyTorch version 1.4.0 available.\n"
     ]
    }
   ],
   "source": [
    "import os\n",
    "import torch\n",
    "from torch import nn\n",
    "from torch.nn import functional as F\n",
    "from torch.utils.data import DataLoader\n",
    "#from torchvision.datasets import MNIST\n",
    "#import torchvision.transforms as transforms\n",
    "from torch.utils.data import Dataset\n",
    "import spacy\n",
    "#import pytorch_lightning as pl\n",
    "#from pytorch_lightning import Trainer\n",
    "import matplotlib.pyplot as plt\n",
    "import numpy as np\n",
    "from scipy import linalg\n",
    "import scipy\n",
    "from sklearn.manifold import TSNE\n",
    "import sklearn\n",
    "from sklearn.linear_model import LinearRegression, Ridge, SGDClassifier\n",
    "from sklearn.svm import LinearSVC, SVR\n",
    "from sklearn.multioutput import MultiOutputRegressor\n",
    "#from sklearn.datasets import fetch_mldata\n",
    "from sklearn.decomposition import PCA\n",
    "import scipy.io\n",
    "import random\n",
    "import inlp\n",
    "from sklearn.manifold import TSNE\n",
    "import matplotlib\n",
    "import matplotlib.pyplot as plt\n",
    "from sklearn.cluster import KMeans\n",
    "import torch\n",
    "from transformers import BertTokenizer, BertModel, BertForMaskedLM, BertConfig, RobertaModel, RobertaForMaskedLM, RobertaTokenizer, RobertaConfig\n",
    "from typing import Tuple, Dict\n",
    "from typing import List\n",
    "import tqdm\n",
    "from tqdm import tqdm_notebook\n",
    "import urllib\n",
    "import time\n",
    "import pickle\n",
    "import inlp, inlp_dataset_handler, inlp_linear_model\n",
    "import copy\n",
    "%load_ext autoreload\n",
    "%autoreload"
   ]
  },
  {
   "cell_type": "code",
   "execution_count": 51,
   "metadata": {},
   "outputs": [],
   "source": [
    "def load_wiki(url = \"http://nlp.biu.ac.il/~ravfogs/resources/wiki.1million.raw.txt\"):\n",
    "    \n",
    "  response = urllib.request.urlopen(url)\n",
    "  raw = response.read().decode('utf8')\n",
    "  sents = raw.split(\"\\n\")\n",
    "  \n",
    "  return sents[:]\n",
    "\n",
    "\n",
    "def create_docs(sentences: List[str]) -> List[spacy.tokens.Doc]:\n",
    "\n",
    "    #parsing and toekenizing (NOTE: takes about 10 minutes)\n",
    "    \n",
    "    nlp = spacy.load('en_core_web_sm')\n",
    "    nlp.remove_pipe(\"ner\")\n",
    "    \n",
    "    start = time.time()\n",
    "    \n",
    "    docs = list(nlp.pipe(sentences, batch_size = 100))\n",
    "    \n",
    "    docs = list(docs)\n",
    "    print(time.time() - start)\n",
    "    \n",
    "    return docs\n",
    "\n",
    "\n",
    "def collect_rec_dataset(docs, n):\n",
    "    \n",
    "    contain_rec = []\n",
    "    for i, doc in tqdm_notebook(enumerate(docs), total = len(docs)):\n",
    "        deps = [tok.dep_ for tok in doc]\n",
    "        if \"relcl\" in deps:\n",
    "            contain_rec.append(doc)\n",
    "    \n",
    "    contain_rec_set = set(contain_rec)\n",
    "    no_rec = [d for d in docs if d not in contain_rec_set]\n",
    "    data = []\n",
    "    for i in range(n):\n",
    "        doc_with_rec = random.choice(contain_rec)\n",
    "        rec_root = random.choice([tok for tok in doc_with_rec if tok.dep_ == \"relcl\"])\n",
    "        rec_subtree = list(rec_root.subtree)\n",
    "        rec_borders = (rec_subtree[0].i, rec_subtree[-1].i)\n",
    "        data.append((doc_with_rec, rec_borders, 1))\n",
    "        data.append((random.choice(no_rec), None, 0))\n",
    "    \n",
    "    random.shuffle(data)\n",
    "    return data\n",
    "    "
   ]
  },
  {
   "cell_type": "code",
   "execution_count": 6,
   "metadata": {},
   "outputs": [],
   "source": [
    "wiki_sents = load_wiki()"
   ]
  },
  {
   "cell_type": "code",
   "execution_count": 7,
   "metadata": {},
   "outputs": [
    {
     "name": "stdout",
     "output_type": "stream",
     "text": [
      "280.4957218170166\n"
     ]
    }
   ],
   "source": [
    "wiki_sents = wiki_sents[:200000]\n",
    "docs = create_docs(wiki_sents)"
   ]
  },
  {
   "cell_type": "code",
   "execution_count": 9,
   "metadata": {},
   "outputs": [],
   "source": [
    "with open(\"sents.pickle\", \"wb\") as f:\n",
    "    pickle.dump(wiki_sents, f)\n",
    "    \n",
    "with open(\"docs.pickle\", \"wb\") as f:\n",
    "    pickle.dump(docs, f)"
   ]
  },
  {
   "cell_type": "code",
   "execution_count": 3,
   "metadata": {},
   "outputs": [],
   "source": [
    "with open(\"docs.pickle\", \"rb\") as f:\n",
    "    docs = pickle.load(f)"
   ]
  },
  {
   "cell_type": "code",
   "execution_count": 52,
   "metadata": {},
   "outputs": [
    {
     "name": "stderr",
     "output_type": "stream",
     "text": [
      "/home/shauli/anaconda3/envs/py3/lib/python3.7/site-packages/ipykernel_launcher.py:30: TqdmDeprecationWarning: This function will be removed in tqdm==5.0.0\n",
      "Please use `tqdm.notebook.tqdm` instead of `tqdm.tqdm_notebook`\n"
     ]
    },
    {
     "data": {
      "application/vnd.jupyter.widget-view+json": {
       "model_id": "c3dd2ef8a88f4491b225238c8939f7ea",
       "version_major": 2,
       "version_minor": 0
      },
      "text/plain": [
       "HBox(children=(FloatProgress(value=0.0, max=200000.0), HTML(value='')))"
      ]
     },
     "metadata": {},
     "output_type": "display_data"
    },
    {
     "name": "stdout",
     "output_type": "stream",
     "text": [
      "\n"
     ]
    }
   ],
   "source": [
    "data = collect_rec_dataset(docs, n = 25000)"
   ]
  },
  {
   "cell_type": "code",
   "execution_count": 57,
   "metadata": {},
   "outputs": [
    {
     "data": {
      "text/plain": [
       "(this event will lead to a unified spain in 1492., None, 0)"
      ]
     },
     "execution_count": 57,
     "metadata": {},
     "output_type": "execute_result"
    }
   ],
   "source": [
    "data[5]"
   ]
  },
  {
   "cell_type": "code",
   "execution_count": 98,
   "metadata": {},
   "outputs": [
    {
     "name": "stdout",
     "output_type": "stream",
     "text": [
      "(einstein, who conducted themselves in a civil and thoughtful manner with the goal of clarifying the presentation of qm, and not to score points, unlike the present participants on sol, who demonstrate none of these qualities., 1)\n",
      "(british naval intelligence had been aware of the arms shipment, casement 's return, and the easter date for the rising through radio messages between germany and its embassy in the united states that were intercepted by the navy and deciphered in room 40 of the admiralty., 1)\n",
      "(the b-side of the finnish version is a cover of the accept song, ``midnight mover'', which was recorded in 2003 in a radio studio during a live broadcast., 1)\n",
      "(uctv is a particularly useful tool for any university in the uk that wants to be seen as taking active steps to widen its participation., 1)\n",
      "(whoever that comes in and cleans it up will be left with unfortunate decisions that will be disagreed with., 1)\n",
      "(it was built in 1924 to serve as a home for elderly widows., 0)\n",
      "(the album was released to extreme censure by an array of critics., 0)\n",
      "(at this time lt col frost, who was now in command of the 2nd bn, was tasked to attack enemy airfields near depienne 30 miles south of tunis., 1)\n",
      "(she was born lydia brooks at hamilton inlet, the daughter of ambrose brooks, a native of england who was employed with the hudson 's bay company, and susan, his inuit wife., 1)\n",
      "(distinct from the tai mao, though living close to them., 0)\n"
     ]
    }
   ],
   "source": [
    "for d in data[:10]:\n",
    "    print(d)"
   ]
  },
  {
   "cell_type": "markdown",
   "metadata": {},
   "source": [
    "## Encoder"
   ]
  },
  {
   "cell_type": "code",
   "execution_count": 85,
   "metadata": {},
   "outputs": [],
   "source": [
    "class BertEncoder(object):\n",
    "    \n",
    "    def __init__(self, device = 'cpu'):\n",
    "\n",
    "        #config = BertConfig.from_pretrained(\"bert-large-uncased-whole-word-masking\", output_hidden_states=True)\n",
    "        #self.tokenizer = BertTokenizer.from_pretrained('bert-large-uncased-whole-word-masking')\n",
    "        #self.model = BertModel.from_pretrained('bert-large-uncased-whole-word-masking', config = config)\n",
    "        \n",
    "        config = RobertaConfig.from_pretrained(\"roberta-large\", output_hidden_states=True)\n",
    "        self.tokenizer = RobertaTokenizer.from_pretrained('roberta-large')\n",
    "        self.model = RobertaModel.from_pretrained('roberta-large', config = config)\n",
    "            \n",
    "        self.model.eval()\n",
    "        self.model.to(device)\n",
    "        self.device = device\n",
    "        \n",
    "    def tokenize(self, original_sentence: List[str]) -> Tuple[List[str], Dict[int, int]]:\n",
    "\n",
    "        \"\"\"\n",
    "        Parameters\n",
    "        ----------\n",
    "        Returns\n",
    "        -------\n",
    "        bert_tokens: The sentence, tokenized by BERT tokenizer.\n",
    "        orig_to_tok_map: An output dictionary consisting of a mapping (alignment) between indices in the original tokenized sentence, and indices in the sentence tokenized by the BERT tokenizer. See https://github.com/google-research/bert\n",
    "        \"\"\"\n",
    "\n",
    "        bert_tokens = [\"[CLS]\"]\n",
    "        orig_to_tok_map = {}\n",
    "        has_subwords = False\n",
    "        is_subword = []\n",
    "\n",
    "        for i, w in enumerate(original_sentence):\n",
    "            tokenized_w = self.tokenizer.tokenize(w)\n",
    "            has_subwords = len(tokenized_w) > 1\n",
    "            is_subword.append(has_subwords)\n",
    "            bert_tokens.extend(tokenized_w)\n",
    "\n",
    "            orig_to_tok_map[i] = len(bert_tokens) - 1\n",
    "\n",
    "        bert_tokens.append(\"[SEP]\")\n",
    "        \n",
    "        return (bert_tokens, orig_to_tok_map)\n",
    "\n",
    "    \n",
    "    def encode(self, sentence: str, layers: List[int]):\n",
    "        \n",
    "        tokenized_text, orig2tok = self.tokenize(sentence.split(\" \"))\n",
    "        indexed_tokens = self.tokenizer.convert_tokens_to_ids(tokenized_text)\n",
    "        tokens_tensor = torch.tensor([indexed_tokens]).to(self.device)\n",
    "\n",
    "        with torch.no_grad():\n",
    "            outputs = self.model(tokens_tensor)\n",
    "            predictions = torch.cat([outputs[2][l] for l in layers], axis = 2).detach().cpu().numpy()\n",
    "            \n",
    "            \"\"\"\n",
    "            if layer >= 0:\n",
    "                predictions = outputs[2][layer].detach().cpu().numpy()\n",
    "            else:\n",
    "                concat = torch.cat(outputs[2], axis = 0)\n",
    "                concat = concat[:7, :, :]\n",
    "                predictions = concat.reshape(concat.shape[1], concat.shape[0] * concat.shape[2])\n",
    "                \n",
    "                print(predictions.shape)\n",
    "                print(\"----------------------------\")\n",
    "                #predictions = torch.sum(concat, axis = 0).detach().cpu().numpy()\n",
    "            \"\"\"\n",
    "            return (predictions.squeeze(), orig2tok)\n",
    "        \n",
    "\n",
    "def collect_bert_states(bert, data: List[Tuple], layers: List[int], by_rec = True):\n",
    "    \n",
    "    \n",
    "    for i,d in tqdm_notebook(enumerate(data), total = len(data)):\n",
    "        \n",
    "        doc, rec_borders, label = d\n",
    "        sent = \" \".join([tok.text for tok in doc])\n",
    "        preds, orig2tok = bert.encode(sent, layers = layers)\n",
    "        cls_state = preds[0]\n",
    "        avg_state = np.mean(preds, axis = 0)\n",
    "        max_state = np.max(preds, axis = 0)\n",
    "        min_state = np.min(preds, axis = 0)\n",
    "        states = np.concatenate([min_state, max_state, avg_state])\n",
    "        \n",
    "        if by_rec:\n",
    "            \n",
    "            if label == 1:\n",
    "                states = np.mean(preds[rec_borders[0]:rec_borders[1]+1, :], axis = 0)\n",
    "            else:\n",
    "                ind = random.choice(range(len(doc)))\n",
    "                d = random.choice(range(2, 8))\n",
    "                states = np.mean(preds[ind: ind + d, :], axis = 0)\n",
    "            \n",
    "        data[i] = (doc, states, label)\n",
    "    \n",
    "    return data\n"
   ]
  },
  {
   "cell_type": "code",
   "execution_count": 87,
   "metadata": {},
   "outputs": [
    {
     "name": "stderr",
     "output_type": "stream",
     "text": [
      "INFO:transformers.configuration_utils:loading configuration file https://s3.amazonaws.com/models.huggingface.co/bert/roberta-large-config.json from cache at /home/shauli/.cache/torch/transformers/c22e0b5bbb7c0cb93a87a2ae01263ae715b4c18d692b1740ce72cacaa99ad184.b0c148f080e2f5eb0abadfa0a38793b5631ca093ac4321d8614d219229fdee2a\n",
      "INFO:transformers.configuration_utils:Model config RobertaConfig {\n",
      "  \"architectures\": [\n",
      "    \"RobertaForMaskedLM\"\n",
      "  ],\n",
      "  \"attention_probs_dropout_prob\": 0.1,\n",
      "  \"bos_token_id\": 0,\n",
      "  \"do_sample\": false,\n",
      "  \"eos_token_ids\": 0,\n",
      "  \"finetuning_task\": null,\n",
      "  \"hidden_act\": \"gelu\",\n",
      "  \"hidden_dropout_prob\": 0.1,\n",
      "  \"hidden_size\": 1024,\n",
      "  \"id2label\": {\n",
      "    \"0\": \"LABEL_0\",\n",
      "    \"1\": \"LABEL_1\"\n",
      "  },\n",
      "  \"initializer_range\": 0.02,\n",
      "  \"intermediate_size\": 4096,\n",
      "  \"is_decoder\": false,\n",
      "  \"label2id\": {\n",
      "    \"LABEL_0\": 0,\n",
      "    \"LABEL_1\": 1\n",
      "  },\n",
      "  \"layer_norm_eps\": 1e-05,\n",
      "  \"length_penalty\": 1.0,\n",
      "  \"max_length\": 20,\n",
      "  \"max_position_embeddings\": 514,\n",
      "  \"model_type\": \"roberta\",\n",
      "  \"num_attention_heads\": 16,\n",
      "  \"num_beams\": 1,\n",
      "  \"num_hidden_layers\": 24,\n",
      "  \"num_labels\": 2,\n",
      "  \"num_return_sequences\": 1,\n",
      "  \"output_attentions\": false,\n",
      "  \"output_hidden_states\": true,\n",
      "  \"output_past\": true,\n",
      "  \"pad_token_id\": 0,\n",
      "  \"pruned_heads\": {},\n",
      "  \"repetition_penalty\": 1.0,\n",
      "  \"temperature\": 1.0,\n",
      "  \"top_k\": 50,\n",
      "  \"top_p\": 1.0,\n",
      "  \"torchscript\": false,\n",
      "  \"type_vocab_size\": 1,\n",
      "  \"use_bfloat16\": false,\n",
      "  \"vocab_size\": 50265\n",
      "}\n",
      "\n",
      "INFO:transformers.tokenization_utils:loading file https://s3.amazonaws.com/models.huggingface.co/bert/roberta-large-vocab.json from cache at /home/shauli/.cache/torch/transformers/1ae1f5b6e2b22b25ccc04c000bb79ca847aa226d0761536b011cf7e5868f0655.ef00af9e673c7160b4d41cfda1f48c5f4cba57d5142754525572a846a1ab1b9b\n",
      "INFO:transformers.tokenization_utils:loading file https://s3.amazonaws.com/models.huggingface.co/bert/roberta-large-merges.txt from cache at /home/shauli/.cache/torch/transformers/f8f83199a6270d582d6245dc100e99c4155de81c9745c6248077018fe01abcfb.70bec105b4158ed9a1747fea67a43f5dee97855c64d62b6ec3742f4cfdb5feda\n",
      "INFO:transformers.modeling_utils:loading weights file https://s3.amazonaws.com/models.huggingface.co/bert/roberta-large-pytorch_model.bin from cache at /home/shauli/.cache/torch/transformers/195c00f28dc68ef13a307c6db84d566f801f03b2b6bcf8b29524f10f767fac2a.fc7abf72755ecc4a75d0d336a93c1c63358d2334f5998ed326f3b0da380bf536\n"
     ]
    },
    {
     "name": "stdout",
     "output_type": "stream",
     "text": [
      "50000\n"
     ]
    },
    {
     "name": "stderr",
     "output_type": "stream",
     "text": [
      "/home/shauli/anaconda3/envs/py3/lib/python3.7/site-packages/ipykernel_launcher.py:74: TqdmDeprecationWarning: This function will be removed in tqdm==5.0.0\n",
      "Please use `tqdm.notebook.tqdm` instead of `tqdm.tqdm_notebook`\n"
     ]
    },
    {
     "data": {
      "application/vnd.jupyter.widget-view+json": {
       "model_id": "235ab9563b0043e19b1408507e9cf4d5",
       "version_major": 2,
       "version_minor": 0
      },
      "text/plain": [
       "HBox(children=(FloatProgress(value=0.0, max=12000.0), HTML(value='')))"
      ]
     },
     "metadata": {},
     "output_type": "display_data"
    },
    {
     "name": "stdout",
     "output_type": "stream",
     "text": [
      "\n"
     ]
    }
   ],
   "source": [
    "bert = BertEncoder(device = \"cpu\")\n",
    "print(len(data))\n",
    "data_with_bert_states = collect_bert_states(bert, copy.deepcopy(data[:12000]), layers = [16], by_rec = True)"
   ]
  },
  {
   "cell_type": "code",
   "execution_count": 119,
   "metadata": {},
   "outputs": [],
   "source": [
    "with open(\"data_with_bert-large_states.pickle\", \"wb\") as f:\n",
    "    \n",
    "    pickle.dump(data_with_bert_states, f)"
   ]
  },
  {
   "cell_type": "markdown",
   "metadata": {},
   "source": [
    "## Do BERT CLS states clsuter to groups according to the presence of REC?"
   ]
  },
  {
   "cell_type": "code",
   "execution_count": 64,
   "metadata": {},
   "outputs": [],
   "source": [
    "def tsne(vecs, labels, title=\"\", words = None, metric = \"l2\", color_gradient = False):\n",
    "\n",
    "  tsne = TSNE(n_components=2, random_state=0, metric = metric)\n",
    "  vecs_2d = tsne.fit_transform(vecs)\n",
    "  num_labels = len(set(labels.tolist()))\n",
    "\n",
    "  #names = [\"digit={}\".format(int(i)) for i in labels.tolist()]\n",
    "  #names = [\"class {}\".format(i) for i in range(num_labels)]\n",
    "  names = sorted(set(labels.tolist()))\n",
    "  \n",
    "\n",
    "  if not color_gradient:\n",
    "      plt.figure(figsize=(6, 5))\n",
    "      colors = \"red\", \"blue\"\n",
    "      #colors = [(255,13,12) for n in names]\n",
    "    \n",
    "      for i, c, label in zip(sorted(set(labels.tolist())), colors, names):\n",
    "        #print(len(vecs_2d[labels == i, 0]))\n",
    "        plt.scatter(vecs_2d[labels == i, 0], vecs_2d[labels == i, 1], c=c,\n",
    "                    label=label, alpha = 0.3)\n",
    "      plt.legend()\n",
    "  \n",
    "\n",
    "  plt.title(title)"
   ]
  },
  {
   "cell_type": "code",
   "execution_count": 65,
   "metadata": {},
   "outputs": [],
   "source": [
    "vecs, labels = np.array([d[-2] for d in data_with_bert_states]), np.array([d[-1] for d in data_with_bert_states])\n",
    "l = int(len(vecs) * 0.8)\n",
    "x_train, x_dev = vecs[:l], vecs[l:]\n",
    "y_train, y_dev = labels[:l], labels[l:]"
   ]
  },
  {
   "cell_type": "code",
   "execution_count": 66,
   "metadata": {},
   "outputs": [
    {
     "data": {
      "image/png": "[encoded data removed]",
      "text/plain": [
       "<Figure size 432x360 with 1 Axes>"
      ]
     },
     "metadata": {
      "needs_background": "light"
     },
     "output_type": "display_data"
    }
   ],
   "source": [
    "tsne(x_dev[:2500, :], y_dev[:2500])"
   ]
  },
  {
   "cell_type": "markdown",
   "metadata": {},
   "source": [
    "## Predict the presence of REC from the representation"
   ]
  },
  {
   "cell_type": "code",
   "execution_count": 130,
   "metadata": {},
   "outputs": [
    {
     "name": "stdout",
     "output_type": "stream",
     "text": [
      "0.86\n"
     ]
    }
   ],
   "source": [
    "model = LinearSVC(dual = False, max_iter = 10000) #SGDClassifier(max_iter = 200)\n",
    "model = SGDClassifier(max_iter = 10000)\n",
    "model.fit(x_train, y_train)\n",
    "print(model.score(x_dev, y_dev))"
   ]
  },
  {
   "cell_type": "markdown",
   "metadata": {},
   "source": [
    "## INLP"
   ]
  },
  {
   "cell_type": "code",
   "execution_count": 132,
   "metadata": {},
   "outputs": [],
   "source": [
    "inlp_dataset = inlp_dataset_handler.ClassificationDatasetHandler(x_train, y_train, x_dev, y_dev, dropout_rate = 0, Y_train_main = None, Y_dev_main = None, by_class = False, equal_chance_for_main_task_labels = False)\n",
    "inlp_model_handler = inlp_linear_model.SKlearnClassifier(LinearSVC, {\"dual\": False})"
   ]
  },
  {
   "cell_type": "code",
   "execution_count": 136,
   "metadata": {},
   "outputs": [
    {
     "name": "stderr",
     "output_type": "stream",
     "text": [
      "\n",
      "  0%|          | 0/50 [00:00<?, ?it/s]\u001b[A\n",
      "iteration: 0, accuracy: 0.85:   0%|          | 0/50 [00:00<?, ?it/s]\u001b[A\n",
      "iteration: 0, accuracy: 0.85:   2%|▏         | 1/50 [00:01<00:50,  1.03s/it]\u001b[A\n",
      "iteration: 1, accuracy: 0.8528571428571429:   2%|▏         | 1/50 [00:02<00:50,  1.03s/it]\u001b[A\n",
      "iteration: 1, accuracy: 0.8528571428571429:   4%|▍         | 2/50 [00:02<00:51,  1.08s/it]\u001b[A\n",
      "iteration: 2, accuracy: 0.8371428571428572:   4%|▍         | 2/50 [00:03<00:51,  1.08s/it]\u001b[A\n",
      "iteration: 2, accuracy: 0.8371428571428572:   6%|▌         | 3/50 [00:03<00:58,  1.24s/it]\u001b[A\n",
      "iteration: 3, accuracy: 0.8371428571428572:   6%|▌         | 3/50 [00:05<00:58,  1.24s/it]\u001b[A\n",
      "iteration: 3, accuracy: 0.8371428571428572:   8%|▊         | 4/50 [00:05<01:07,  1.47s/it]\u001b[A\n",
      "iteration: 4, accuracy: 0.8185714285714286:   8%|▊         | 4/50 [00:07<01:07,  1.47s/it]\u001b[A\n",
      "iteration: 4, accuracy: 0.8185714285714286:  10%|█         | 5/50 [00:07<01:06,  1.47s/it]\u001b[A\n",
      "iteration: 5, accuracy: 0.8314285714285714:  10%|█         | 5/50 [00:08<01:06,  1.47s/it]\u001b[A\n",
      "iteration: 5, accuracy: 0.8314285714285714:  12%|█▏        | 6/50 [00:08<01:04,  1.47s/it]\u001b[A\n",
      "iteration: 6, accuracy: 0.7857142857142857:  12%|█▏        | 6/50 [00:10<01:04,  1.47s/it]\u001b[A\n",
      "iteration: 6, accuracy: 0.7857142857142857:  14%|█▍        | 7/50 [00:10<01:04,  1.51s/it]\u001b[A\n",
      "iteration: 7, accuracy: 0.7842857142857143:  14%|█▍        | 7/50 [00:11<01:04,  1.51s/it]\u001b[A\n",
      "iteration: 7, accuracy: 0.7842857142857143:  16%|█▌        | 8/50 [00:11<01:02,  1.50s/it]\u001b[A\n",
      "iteration: 8, accuracy: 0.7657142857142857:  16%|█▌        | 8/50 [00:13<01:02,  1.50s/it]\u001b[A\n",
      "iteration: 8, accuracy: 0.7657142857142857:  18%|█▊        | 9/50 [00:13<01:02,  1.52s/it]\u001b[A\n",
      "iteration: 9, accuracy: 0.7742857142857142:  18%|█▊        | 9/50 [00:14<01:02,  1.52s/it]\u001b[A\n",
      "iteration: 9, accuracy: 0.7742857142857142:  20%|██        | 10/50 [00:14<00:59,  1.49s/it]\u001b[A\n",
      "iteration: 10, accuracy: 0.7542857142857143:  20%|██        | 10/50 [00:16<00:59,  1.49s/it]\u001b[A\n",
      "iteration: 10, accuracy: 0.7542857142857143:  22%|██▏       | 11/50 [00:16<00:55,  1.43s/it]\u001b[A\n",
      "iteration: 11, accuracy: 0.75:  22%|██▏       | 11/50 [00:17<00:55,  1.43s/it]              \u001b[A\n",
      "iteration: 11, accuracy: 0.75:  24%|██▍       | 12/50 [00:17<00:55,  1.45s/it]\u001b[A\n",
      "iteration: 12, accuracy: 0.7342857142857143:  24%|██▍       | 12/50 [00:19<00:55,  1.45s/it]\u001b[A\n",
      "iteration: 12, accuracy: 0.7342857142857143:  26%|██▌       | 13/50 [00:19<00:54,  1.47s/it]\u001b[A\n",
      "iteration: 13, accuracy: 0.7:  26%|██▌       | 13/50 [00:20<00:54,  1.47s/it]               \u001b[A\n",
      "iteration: 13, accuracy: 0.7:  28%|██▊       | 14/50 [00:21<00:57,  1.61s/it]\u001b[A\n",
      "iteration: 14, accuracy: 0.7057142857142857:  28%|██▊       | 14/50 [00:22<00:57,  1.61s/it]\u001b[A\n",
      "iteration: 14, accuracy: 0.7057142857142857:  30%|███       | 15/50 [00:23<01:00,  1.73s/it]\u001b[A\n",
      "iteration: 15, accuracy: 0.6842857142857143:  30%|███       | 15/50 [00:24<01:00,  1.73s/it]\u001b[A\n",
      "iteration: 15, accuracy: 0.6842857142857143:  32%|███▏      | 16/50 [00:25<01:00,  1.78s/it]\u001b[A\n",
      "iteration: 16, accuracy: 0.6714285714285714:  32%|███▏      | 16/50 [00:26<01:00,  1.78s/it]\u001b[A\n",
      "iteration: 16, accuracy: 0.6714285714285714:  34%|███▍      | 17/50 [00:26<00:59,  1.81s/it]\u001b[A\n",
      "iteration: 17, accuracy: 0.6714285714285714:  34%|███▍      | 17/50 [00:28<00:59,  1.81s/it]\u001b[A\n",
      "iteration: 17, accuracy: 0.6714285714285714:  36%|███▌      | 18/50 [00:28<00:56,  1.76s/it]\u001b[A\n",
      "iteration: 18, accuracy: 0.6628571428571428:  36%|███▌      | 18/50 [00:30<00:56,  1.76s/it]\u001b[A\n",
      "iteration: 18, accuracy: 0.6628571428571428:  38%|███▊      | 19/50 [00:30<00:55,  1.79s/it]\u001b[A\n",
      "iteration: 19, accuracy: 0.6728571428571428:  38%|███▊      | 19/50 [00:32<00:55,  1.79s/it]\u001b[A\n",
      "iteration: 19, accuracy: 0.6728571428571428:  40%|████      | 20/50 [00:32<00:56,  1.87s/it]\u001b[A\n",
      "iteration: 20, accuracy: 0.6657142857142857:  40%|████      | 20/50 [00:33<00:56,  1.87s/it]\u001b[A\n",
      "iteration: 20, accuracy: 0.6657142857142857:  42%|████▏     | 21/50 [00:34<00:52,  1.80s/it]\u001b[A\n",
      "iteration: 21, accuracy: 0.6628571428571428:  42%|████▏     | 21/50 [00:35<00:52,  1.80s/it]\u001b[A\n",
      "iteration: 21, accuracy: 0.6628571428571428:  44%|████▍     | 22/50 [00:35<00:50,  1.79s/it]\u001b[A\n",
      "iteration: 22, accuracy: 0.6614285714285715:  44%|████▍     | 22/50 [00:37<00:50,  1.79s/it]\u001b[A\n",
      "iteration: 22, accuracy: 0.6614285714285715:  46%|████▌     | 23/50 [00:37<00:48,  1.81s/it]\u001b[A\n",
      "iteration: 23, accuracy: 0.67:  46%|████▌     | 23/50 [00:39<00:48,  1.81s/it]              \u001b[A\n",
      "iteration: 23, accuracy: 0.67:  48%|████▊     | 24/50 [00:39<00:47,  1.82s/it]\u001b[A\n",
      "iteration: 24, accuracy: 0.6828571428571428:  48%|████▊     | 24/50 [00:40<00:47,  1.82s/it]\u001b[A\n",
      "iteration: 24, accuracy: 0.6828571428571428:  50%|█████     | 25/50 [00:40<00:42,  1.68s/it]\u001b[A\n",
      "iteration: 25, accuracy: 0.6514285714285715:  50%|█████     | 25/50 [00:42<00:42,  1.68s/it]\u001b[A\n",
      "iteration: 25, accuracy: 0.6514285714285715:  52%|█████▏    | 26/50 [00:42<00:41,  1.74s/it]\u001b[A\n",
      "iteration: 26, accuracy: 0.6428571428571429:  52%|█████▏    | 26/50 [00:44<00:41,  1.74s/it]\u001b[A\n",
      "iteration: 26, accuracy: 0.6428571428571429:  54%|█████▍    | 27/50 [00:44<00:37,  1.64s/it]\u001b[A\n",
      "iteration: 27, accuracy: 0.6328571428571429:  54%|█████▍    | 27/50 [00:45<00:37,  1.64s/it]\u001b[A\n",
      "iteration: 27, accuracy: 0.6328571428571429:  56%|█████▌    | 28/50 [00:45<00:35,  1.60s/it]\u001b[A\n",
      "iteration: 28, accuracy: 0.6228571428571429:  56%|█████▌    | 28/50 [00:46<00:35,  1.60s/it]\u001b[A\n",
      "iteration: 28, accuracy: 0.6228571428571429:  58%|█████▊    | 29/50 [00:46<00:31,  1.51s/it]\u001b[A\n",
      "iteration: 29, accuracy: 0.6157142857142858:  58%|█████▊    | 29/50 [00:48<00:31,  1.51s/it]\u001b[A\n",
      "iteration: 29, accuracy: 0.6157142857142858:  60%|██████    | 30/50 [00:48<00:28,  1.45s/it]\u001b[A\n",
      "iteration: 30, accuracy: 0.6085714285714285:  60%|██████    | 30/50 [00:49<00:28,  1.45s/it]\u001b[A\n",
      "iteration: 30, accuracy: 0.6085714285714285:  62%|██████▏   | 31/50 [00:49<00:26,  1.41s/it]\u001b[A\n",
      "iteration: 31, accuracy: 0.6271428571428571:  62%|██████▏   | 31/50 [00:50<00:26,  1.41s/it]\u001b[A\n",
      "iteration: 31, accuracy: 0.6271428571428571:  64%|██████▍   | 32/50 [00:50<00:25,  1.40s/it]\u001b[A\n",
      "iteration: 32, accuracy: 0.6085714285714285:  64%|██████▍   | 32/50 [00:52<00:25,  1.40s/it]\u001b[A\n",
      "iteration: 32, accuracy: 0.6085714285714285:  66%|██████▌   | 33/50 [00:52<00:23,  1.39s/it]\u001b[A\n",
      "iteration: 33, accuracy: 0.6371428571428571:  66%|██████▌   | 33/50 [00:53<00:23,  1.39s/it]\u001b[A\n",
      "iteration: 33, accuracy: 0.6371428571428571:  68%|██████▊   | 34/50 [00:53<00:22,  1.39s/it]\u001b[A\n",
      "iteration: 34, accuracy: 0.6228571428571429:  68%|██████▊   | 34/50 [00:54<00:22,  1.39s/it]\u001b[A\n",
      "iteration: 34, accuracy: 0.6228571428571429:  70%|███████   | 35/50 [00:55<00:20,  1.38s/it]\u001b[A\n",
      "iteration: 35, accuracy: 0.5942857142857143:  70%|███████   | 35/50 [00:56<00:20,  1.38s/it]\u001b[A\n",
      "iteration: 35, accuracy: 0.5942857142857143:  72%|███████▏  | 36/50 [00:56<00:19,  1.39s/it]\u001b[A\n",
      "iteration: 36, accuracy: 0.5985714285714285:  72%|███████▏  | 36/50 [00:57<00:19,  1.39s/it]\u001b[A\n",
      "iteration: 36, accuracy: 0.5985714285714285:  74%|███████▍  | 37/50 [00:57<00:18,  1.40s/it]\u001b[A\n",
      "iteration: 37, accuracy: 0.6028571428571429:  74%|███████▍  | 37/50 [00:59<00:18,  1.40s/it]\u001b[A\n",
      "iteration: 37, accuracy: 0.6028571428571429:  76%|███████▌  | 38/50 [00:59<00:16,  1.39s/it]\u001b[A\n",
      "iteration: 38, accuracy: 0.5942857142857143:  76%|███████▌  | 38/50 [01:00<00:16,  1.39s/it]\u001b[A\n",
      "iteration: 38, accuracy: 0.5942857142857143:  78%|███████▊  | 39/50 [01:00<00:15,  1.40s/it]\u001b[A\n",
      "iteration: 39, accuracy: 0.5585714285714286:  78%|███████▊  | 39/50 [01:02<00:15,  1.40s/it]\u001b[A\n",
      "iteration: 39, accuracy: 0.5585714285714286:  80%|████████  | 40/50 [01:02<00:14,  1.41s/it]\u001b[A\n",
      "iteration: 40, accuracy: 0.5742857142857143:  80%|████████  | 40/50 [01:03<00:14,  1.41s/it]\u001b[A\n",
      "iteration: 40, accuracy: 0.5742857142857143:  82%|████████▏ | 41/50 [01:03<00:12,  1.43s/it]\u001b[A\n",
      "iteration: 41, accuracy: 0.5557142857142857:  82%|████████▏ | 41/50 [01:04<00:12,  1.43s/it]\u001b[A\n",
      "iteration: 41, accuracy: 0.5557142857142857:  84%|████████▍ | 42/50 [01:04<00:11,  1.38s/it]\u001b[A\n",
      "iteration: 42, accuracy: 0.5542857142857143:  84%|████████▍ | 42/50 [01:06<00:11,  1.38s/it]\u001b[A\n",
      "iteration: 42, accuracy: 0.5542857142857143:  86%|████████▌ | 43/50 [01:06<00:09,  1.40s/it]\u001b[A\n"
     ]
    },
    {
     "name": "stderr",
     "output_type": "stream",
     "text": [
      "iteration: 43, accuracy: 0.5314285714285715:  86%|████████▌ | 43/50 [01:07<00:09,  1.40s/it]\u001b[A\n",
      "iteration: 43, accuracy: 0.5314285714285715:  88%|████████▊ | 44/50 [01:07<00:08,  1.37s/it]\u001b[A\n",
      "iteration: 44, accuracy: 0.5571428571428572:  88%|████████▊ | 44/50 [01:08<00:08,  1.37s/it]\u001b[A\n",
      "iteration: 44, accuracy: 0.5571428571428572:  90%|█████████ | 45/50 [01:08<00:06,  1.34s/it]\u001b[A\n",
      "iteration: 45, accuracy: 0.5342857142857143:  90%|█████████ | 45/50 [01:10<00:06,  1.34s/it]\u001b[A\n",
      "iteration: 45, accuracy: 0.5342857142857143:  92%|█████████▏| 46/50 [01:10<00:05,  1.35s/it]\u001b[A\n",
      "iteration: 46, accuracy: 0.5228571428571429:  92%|█████████▏| 46/50 [01:11<00:05,  1.35s/it]\u001b[A\n",
      "iteration: 46, accuracy: 0.5228571428571429:  94%|█████████▍| 47/50 [01:12<00:04,  1.46s/it]\u001b[A\n",
      "iteration: 47, accuracy: 0.5228571428571429:  94%|█████████▍| 47/50 [01:13<00:04,  1.46s/it]\u001b[A\n",
      "iteration: 47, accuracy: 0.5228571428571429:  96%|█████████▌| 48/50 [01:13<00:03,  1.59s/it]\u001b[A\n",
      "iteration: 48, accuracy: 0.5185714285714286:  96%|█████████▌| 48/50 [01:15<00:03,  1.59s/it]\u001b[A\n",
      "iteration: 48, accuracy: 0.5185714285714286:  98%|█████████▊| 49/50 [01:15<00:01,  1.61s/it]\u001b[A\n",
      "iteration: 49, accuracy: 0.4942857142857143:  98%|█████████▊| 49/50 [01:17<00:01,  1.61s/it]\u001b[A\n",
      "iteration: 49, accuracy: 0.4942857142857143: 100%|██████████| 50/50 [01:17<00:00,  1.54s/it]\u001b[A\n"
     ]
    }
   ],
   "source": [
    "P, rowspace_projections, Ws = inlp.run_INLP(num_classifiers = 50, input_dim = 768, is_autoregressive = True, min_accuracy = 0, dataset_handler = inlp_dataset, model = inlp_model_handler)\n"
   ]
  }
 ],
 "metadata": {
  "kernelspec": {
   "display_name": "Python 3",
   "language": "python",
   "name": "python3"
  },
  "language_info": {
   "codemirror_mode": {
    "name": "ipython",
    "version": 3
   },
   "file_extension": ".py",
   "mimetype": "text/x-python",
   "name": "python",
   "nbconvert_exporter": "python",
   "pygments_lexer": "ipython3",
   "version": "3.7.6"
  }
 },
 "nbformat": 4,
 "nbformat_minor": 4
}
