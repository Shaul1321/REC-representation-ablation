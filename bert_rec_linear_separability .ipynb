{
 "cells": [
  {
   "cell_type": "code",
   "execution_count": 1,
   "metadata": {},
   "outputs": [
    {
     "name": "stderr",
     "output_type": "stream",
     "text": [
      "INFO:transformers.file_utils:PyTorch version 1.4.0 available.\n"
     ]
    }
   ],
   "source": [
    "import os\n",
    "import torch\n",
    "from torch import nn\n",
    "from torch.nn import functional as F\n",
    "from torch.utils.data import DataLoader\n",
    "#from torchvision.datasets import MNIST\n",
    "#import torchvision.transforms as transforms\n",
    "from torch.utils.data import Dataset\n",
    "import spacy\n",
    "#import pytorch_lightning as pl\n",
    "#from pytorch_lightning import Trainer\n",
    "import matplotlib.pyplot as plt\n",
    "import numpy as np\n",
    "from scipy import linalg\n",
    "import scipy\n",
    "from sklearn.manifold import TSNE\n",
    "import sklearn\n",
    "from sklearn.linear_model import LinearRegression, Ridge, SGDClassifier\n",
    "from sklearn.svm import LinearSVC, SVR\n",
    "from sklearn.multioutput import MultiOutputRegressor\n",
    "#from sklearn.datasets import fetch_mldata\n",
    "from sklearn.decomposition import PCA\n",
    "import scipy.io\n",
    "import random\n",
    "import inlp\n",
    "from sklearn.manifold import TSNE\n",
    "import matplotlib\n",
    "import matplotlib.pyplot as plt\n",
    "from sklearn.cluster import KMeans\n",
    "import torch\n",
    "from transformers import BertTokenizer, BertModel, BertForMaskedLM, BertConfig, RobertaModel, RobertaForMaskedLM, RobertaTokenizer, RobertaConfig\n",
    "from transformers import AutoTokenizer, AutoModel, AutoConfig\n",
    "from transformers import AlbertTokenizer, AlbertModel, AlbertConfig\n",
    "from transformers import XLNetTokenizer, XLNetModel, XLNetConfig\n",
    "\n",
    "from typing import Tuple, Dict\n",
    "from typing import List\n",
    "import tqdm\n",
    "from tqdm import tqdm_notebook\n",
    "import urllib\n",
    "import time\n",
    "import pickle\n",
    "import inlp, inlp_dataset_handler, inlp_linear_model\n",
    "import copy\n",
    "%load_ext autoreload\n",
    "%autoreload"
   ]
  },
  {
   "cell_type": "code",
   "execution_count": 2,
   "metadata": {},
   "outputs": [],
   "source": [
    "def load_wiki(url = \"http://nlp.biu.ac.il/~ravfogs/resources/wiki.1million.raw.txt\"):\n",
    "    \n",
    "  response = urllib.request.urlopen(url)\n",
    "  raw = response.read().decode('utf8')\n",
    "  sents = raw.split(\"\\n\")\n",
    "  \n",
    "  return sents[:]\n",
    "\n",
    "\n",
    "def create_docs(sentences: List[str]) -> List[spacy.tokens.Doc]:\n",
    "\n",
    "    #parsing and toekenizing (NOTE: takes about 10 minutes)\n",
    "    \n",
    "    nlp = spacy.load('en_core_web_sm')\n",
    "    nlp.remove_pipe(\"ner\")\n",
    "    \n",
    "    start = time.time()\n",
    "    \n",
    "    docs = list(nlp.pipe(sentences, batch_size = 100))\n",
    "    \n",
    "    docs = list(docs)\n",
    "    print(time.time() - start)\n",
    "    \n",
    "    return docs\n",
    "\n",
    "\n",
    "def collect_rec_dataset(docs, n):\n",
    "    \n",
    "    contain_rec = []\n",
    "    for i, doc in tqdm.notebook.tqdm(enumerate(docs), total = len(docs)):\n",
    "        deps = [tok.dep_ for tok in doc]\n",
    "        if \"relcl\" in deps:\n",
    "            contain_rec.append(doc)\n",
    "    \n",
    "    contain_rec_set = set(contain_rec)\n",
    "    no_rec = [d for d in docs if d not in contain_rec_set]\n",
    "    data = []\n",
    "    for i in range(n):\n",
    "        \n",
    "        doc_with_rec = random.choice(contain_rec)\n",
    "        rec_root = random.choice([tok for tok in doc_with_rec if tok.dep_ == \"relcl\"])\n",
    "        rec_subtree = list(rec_root.subtree)\n",
    "        rec_borders = (rec_subtree[0].i, rec_subtree[-1].i)\n",
    "        rec_subtree_text = [tok.text for tok in rec_subtree]\n",
    "        is_reduced_relc = \"that\" not in rec_subtree_text and \"which\" not in rec_subtree_text and \"who\" not in rec_subtree_text and \"whom\" not in rec_subtree_text and \"whose\" not in rec_subtree_text and \"where\" not in rec_subtree_text \n",
    "        \n",
    "        # add positive & negative examples\n",
    "        \n",
    "        data.append({\"doc\": doc_with_rec, \"relc_borders\": rec_borders, \"is_reduced\": is_reduced_relc, \"relc_root_ind\": rec_root.i, \"label\": 1})\n",
    "        data.append({\"doc\": random.choice(no_rec), \"relc_borders\": None, \"is_reduced\": None, \"relc_root_ind\": None, \"label\": 0})\n",
    "    \n",
    "    random.shuffle(data)\n",
    "    return data\n",
    "    "
   ]
  },
  {
   "cell_type": "code",
   "execution_count": null,
   "metadata": {},
   "outputs": [],
   "source": [
    "wiki_sents = load_wiki()"
   ]
  },
  {
   "cell_type": "code",
   "execution_count": null,
   "metadata": {},
   "outputs": [],
   "source": [
    "wiki_sents = wiki_sents[:200000]\n",
    "print(wiki_sents[0])\n",
    "docs = create_docs(wiki_sents)"
   ]
  },
  {
   "cell_type": "code",
   "execution_count": null,
   "metadata": {},
   "outputs": [],
   "source": [
    "with open(\"sents.pickle\", \"wb\") as f:\n",
    "    pickle.dump(wiki_sents, f)\n",
    "    \n",
    "with open(\"docs.pickle\", \"wb\") as f:\n",
    "    pickle.dump(docs, f)"
   ]
  },
  {
   "cell_type": "code",
   "execution_count": 3,
   "metadata": {},
   "outputs": [],
   "source": [
    "with open(\"docs.pickle\", \"rb\") as f:\n",
    "    docs = pickle.load(f)"
   ]
  },
  {
   "cell_type": "code",
   "execution_count": 4,
   "metadata": {},
   "outputs": [
    {
     "data": {
      "application/vnd.jupyter.widget-view+json": {
       "model_id": "e2d85c498c8142e3bee31675be96254c",
       "version_major": 2,
       "version_minor": 0
      },
      "text/plain": [
       "HBox(children=(FloatProgress(value=0.0, max=144303.0), HTML(value='')))"
      ]
     },
     "metadata": {},
     "output_type": "display_data"
    },
    {
     "name": "stdout",
     "output_type": "stream",
     "text": [
      "\n"
     ]
    }
   ],
   "source": [
    "docs = [d for d in docs if len(d) > 11 and len(d) < 35]\n",
    "data = collect_rec_dataset(docs, n = 75000)"
   ]
  },
  {
   "cell_type": "code",
   "execution_count": 5,
   "metadata": {},
   "outputs": [
    {
     "name": "stdout",
     "output_type": "stream",
     "text": [
      "7.8066933333333335 4.568613852430759\n"
     ]
    }
   ],
   "source": [
    "relc_lengths = [abs(d[\"relc_borders\"][0] - d[\"relc_borders\"][1]) for d in data if d[\"relc_borders\"] is not None]\n",
    "relc_mean = np.mean(relc_lengths)\n",
    "relc_std = np.std(relc_lengths)\n",
    "print(relc_mean, relc_std)"
   ]
  },
  {
   "cell_type": "code",
   "execution_count": 6,
   "metadata": {},
   "outputs": [
    {
     "name": "stdout",
     "output_type": "stream",
     "text": [
      "approved a bill to study the Missisquoi and Trout rivers for potential designation as Wild and Scenic Rivers .\n",
      "continue the deal he had with Joe .\n",
      "were a place to grow flowers and medicinal herbs but\n",
      "The two mentions I listed are\n",
      "nor the expertise to administer all of the details of a particular statute .\n",
      "are not reasons to delete or complain but\n",
      "The sporting regulation he has used over the years to keep teams in check relates\n",
      "the first thread I started )\n",
      "`` none to compare with the daughters of the Edain ''\n",
      "\n"
     ]
    }
   ],
   "source": [
    "reduced = [d for d in data if d[\"is_reduced\"]]\n",
    "for r in reduced[:10]:\n",
    "    min_ind, max_ind = r[\"relc_borders\"]\n",
    "    print(r[\"doc\"][min_ind-3:max_ind+2])"
   ]
  },
  {
   "cell_type": "markdown",
   "metadata": {},
   "source": [
    "## Encoder"
   ]
  },
  {
   "cell_type": "code",
   "execution_count": 103,
   "metadata": {},
   "outputs": [],
   "source": [
    "class BertEncoder(object):\n",
    "    \n",
    "    def __init__(self, device = 'cpu'):\n",
    "\n",
    "        config = BertConfig.from_pretrained(\"bert-large-uncased-whole-word-masking\", output_hidden_states=True)\n",
    "        self.tokenizer = BertTokenizer.from_pretrained('bert-large-uncased-whole-word-masking')\n",
    "        self.model = BertModel.from_pretrained('bert-large-uncased-whole-word-masking', config = config)\n",
    "\n",
    "        #config = BertConfig.from_pretrained(\"bert-base-uncased\", output_hidden_states=True)\n",
    "        #self.tokenizer = BertTokenizer.from_pretrained('bert-base-uncased')\n",
    "        #self.model = BertModel.from_pretrained('bert-base-uncased', config = config)\n",
    "        \n",
    "        #config = AlbertConfig.from_pretrained(\"albert-xlarge-v2\", output_hidden_states=True)\n",
    "        #self.tokenizer = AlbertTokenizer.from_pretrained(\"albert-xlarge-v2\")\n",
    "        #self.model = AlbertModel.from_pretrained(\"albert-xlarge-v2\", config = config)\n",
    "        #config = RobertaConfig.from_pretrained(\"roberta-large\", output_hidden_states=True)\n",
    "        #self.tokenizer = RobertaTokenizer.from_pretrained('roberta-large')\n",
    "        #self.model = RobertaModel.from_pretrained('roberta-large', config = config)\n",
    "            \n",
    "        self.model.eval()\n",
    "        self.model.to(device)\n",
    "        self.device = device\n",
    "        \n",
    "    def tokenize(self, original_sentence: List[str], capitalize = False) -> Tuple[List[str], Dict[int, int]]:\n",
    "\n",
    "        \"\"\"\n",
    "        Parameters\n",
    "        ----------\n",
    "        Returns\n",
    "        -------\n",
    "        bert_tokens: The sentence, tokenized by BERT tokenizer.\n",
    "        orig_to_tok_map: An output dictionary consisting of a mapping (alignment) between indices in the original tokenized sentence, and indices in the sentence tokenized by the BERT tokenizer. See https://github.com/google-research/bert\n",
    "        \"\"\"\n",
    "\n",
    "        if capitalize:\n",
    "            \n",
    "            w = list(original_sentence[0])\n",
    "            w[0] = w[0].upper()\n",
    "            \n",
    "            original_sentence[0] = \"\".join(w)\n",
    "            \n",
    "        bert_tokens = [\"[CLS]\"]\n",
    "        orig_to_tok_map = {}\n",
    "        has_subwords = False\n",
    "        is_subword = []\n",
    "\n",
    "        for i, w in enumerate(original_sentence):\n",
    "            tokenized_w = self.tokenizer.tokenize(w)\n",
    "            has_subwords = len(tokenized_w) > 1\n",
    "            is_subword.append(has_subwords)\n",
    "            bert_tokens.extend(tokenized_w)\n",
    "\n",
    "            orig_to_tok_map[i] = len(bert_tokens) - 1\n",
    "\n",
    "        bert_tokens.append(\"[SEP]\")\n",
    "        \n",
    "        return (bert_tokens, orig_to_tok_map)\n",
    "\n",
    "    \n",
    "    def encode(self, sentence: str, layers: List[int]):\n",
    "        \n",
    "        \n",
    "        tokenized_text, orig2tok = self.tokenize(sentence.split(\" \"))\n",
    "        indexed_tokens = self.tokenizer.convert_tokens_to_ids(tokenized_text)\n",
    "        tokens_tensor = torch.tensor([indexed_tokens]).to(self.device)\n",
    "\n",
    "        with torch.no_grad():\n",
    "            outputs = self.model(tokens_tensor)\n",
    "            predictions = torch.cat([outputs[2][l] for l in layers], axis = 2).detach().cpu().numpy()\n",
    "            \n",
    "            \"\"\"\n",
    "            if layer >= 0:\n",
    "                predictions = outputs[2][layer].detach().cpu().numpy()\n",
    "            else:\n",
    "                concat = torch.cat(outputs[2], axis = 0)\n",
    "                concat = concat[:7, :, :]\n",
    "                predictions = concat.reshape(concat.shape[1], concat.shape[0] * concat.shape[2])\n",
    "                \n",
    "                print(predictions.shape)\n",
    "                print(\"----------------------------\")\n",
    "                #predictions = torch.sum(concat, axis = 0).detach().cpu().numpy()\n",
    "            \"\"\"\n",
    "            return (predictions.squeeze(), orig2tok)\n",
    "        \n",
    "\n",
    "def collect_bert_states(bert, data: List[Tuple], layers: List[int], by_rec = True, strategy = \"mean\"):\n",
    "    \n",
    "    \n",
    "    for i,d in tqdm.notebook.tqdm(enumerate(data), total = len(data)):\n",
    "        \n",
    "        doc, rec_borders, is_reduced, relc_root_i, label = d[\"doc\"], d[\"relc_borders\"], d[\"is_reduced\"], d[\"relc_root_ind\"], d[\"label\"]\n",
    "        sent = \" \".join([tok.text for tok in doc])\n",
    "        preds, orig2tok = bert.encode(sent, layers = layers)\n",
    "\n",
    "        \n",
    "        if by_rec:\n",
    "            \n",
    "                ind = random.choice(range(preds.shape[0]))\n",
    "                dist = random.choice(range(2, 12))\n",
    "                \n",
    "                if label == 1:\n",
    "                    min_relcl_ind, max_relcl_nax = orig2tok[rec_borders[0]], orig2tok[rec_borders[1]]\n",
    "                \n",
    "                if strategy == \"mean\":\n",
    "                    if label == 1:\n",
    "                        \n",
    "                        states = np.mean(preds[min_relcl_ind:max_relcl_nax+1, :], axis = 0)\n",
    "                    else:\n",
    "                        states = np.mean(preds[ind: ind + dist, :], axis = 0)\n",
    "                elif strategy == \"sum\":\n",
    "                    if label == 1:\n",
    "                         states = np.sum(preds[min_relcl_ind:max_relcl_nax+1, :], axis = 0)   \n",
    "                    else:\n",
    "                         states = np.sum(preds[ind: ind + dist, :], axis = 0)                            \n",
    "                elif strategy == \"root\":      \n",
    "                    if label == 1:\n",
    "                        states = preds[orig2tok[relc_root_i], :]\n",
    "                    else:\n",
    "\n",
    "                        states = preds[np.minimum(ind + dist, len(preds) - 1)]\n",
    "                        \n",
    "                elif strategy == \"rand-word\":\n",
    "                        \n",
    "                    if label == 1:\n",
    "                        \n",
    "                        states = preds[random.choice(range(min_relcl_ind-1, max_relcl_nax+1)), :]\n",
    "                    else:\n",
    "                        states = preds[ind]\n",
    "                else:\n",
    "                    raise Exception(\"Strategy {} not supported\".format(strategy))                \n",
    "                \n",
    "        else:\n",
    "            cls_state = preds[0]\n",
    "            avg_state = np.mean(preds, axis = 0)\n",
    "            sum_state = np.sum(preds, axis = 0)\n",
    "            max_state = np.max(preds, axis = 0)\n",
    "            min_state = np.min(preds, axis = 0)\n",
    "            \n",
    "            if strategy == \"cls\":\n",
    "                states = cls_state\n",
    "            elif strategy == \"mean\":\n",
    "                states = avg_state\n",
    "            elif strategy == \"sum\":\n",
    "                states = sum_state\n",
    "            elif strategy == \"max_min\":\n",
    "                states = np.concatenate([min_state, max_state])\n",
    "            else:\n",
    "                raise Exception(\"Strategy {} not supported\".format(strategy))\n",
    "                \n",
    "        data[i][\"vec\"] = states\n",
    "    \n",
    "    return data\n",
    "\n",
    "\n",
    "\n",
    "\n",
    "\n",
    "\n",
    "def collect_bert_states2(bert, data: List[Tuple], layers: List[int], by_rec = True, strategy = \"mean\"):\n",
    "    \n",
    "    \n",
    "    dists = []\n",
    "    for i,d in tqdm.notebook.tqdm(enumerate(data), total = len(data)):\n",
    "        \n",
    "        doc, rec_borders, is_reduced, relc_root_i, label = d[\"doc\"], d[\"relc_borders\"], d[\"is_reduced\"], d[\"relc_root_ind\"], d[\"label\"]\n",
    "        sent = \" \".join([tok.text for tok in doc]).lower()\n",
    "        preds, orig2tok = bert.encode(sent, layers = layers)\n",
    "        \n",
    "        min_relcl_ind, max_relcl_nax = orig2tok[rec_borders[0]], orig2tok[rec_borders[1]]\n",
    "\n",
    "        if strategy == \"sum\":\n",
    "            states = np.mean(preds[min_relcl_ind:max_relcl_nax+1, :], axis = 0)\n",
    "        else:\n",
    "            states = preds[random.choice(range(min_relcl_ind, max_relcl_nax)), :]\n",
    "            \n",
    "        chosen = False\n",
    "        \n",
    "        \n",
    "        if random.random() < 0.5:\n",
    "            \n",
    "            chosen = False\n",
    "            counter = 0\n",
    "            \n",
    "            while not chosen and counter < 100:\n",
    "                counter += 1\n",
    "                ind = random.choice(range(preds.shape[0]))\n",
    "                dist = random.choice(range(2, 12))\n",
    "                \n",
    "                if (ind < min_relcl_ind and (ind + dist < min_relcl_ind)) or ind > max_relcl_nax:\n",
    "                    \n",
    "                    dists.append(dist)\n",
    "                    chosen = True\n",
    "                    \n",
    "                    if strategy == \"sum\":\n",
    "                        states = np.mean(preds[ind:ind+dist, :], axis = 0)\n",
    "                    else:\n",
    "                        states = preds[ind, :]\n",
    "                    data[i][\"label\"] = 0\n",
    "                    break\n",
    "\n",
    "                \n",
    "        data[i][\"vec\"] = states\n",
    "    print(\"avg neg distance: \", np.mean(dists))\n",
    "    #print(\"avg pos distance: \", )\n",
    "    \n",
    "    return data\n"
   ]
  },
  {
   "cell_type": "code",
   "execution_count": 104,
   "metadata": {
    "scrolled": true
   },
   "outputs": [
    {
     "name": "stderr",
     "output_type": "stream",
     "text": [
      "INFO:transformers.configuration_utils:loading configuration file https://s3.amazonaws.com/models.huggingface.co/bert/bert-large-uncased-whole-word-masking-config.json from cache at /home/shauli/.cache/torch/transformers/acdf0fd9c7a1b157516c5c0434216c72438b384fb6ddeeaa20d67e83d1fef81f.fc076a4d5f1edf25ea3a2bd66e9f6f295dcd64c81dfef5b3f5a3eb2a82751ad1\n",
      "INFO:transformers.configuration_utils:Model config BertConfig {\n",
      "  \"architectures\": [\n",
      "    \"BertForMaskedLM\"\n",
      "  ],\n",
      "  \"attention_probs_dropout_prob\": 0.1,\n",
      "  \"bos_token_id\": 0,\n",
      "  \"do_sample\": false,\n",
      "  \"eos_token_ids\": 0,\n",
      "  \"finetuning_task\": null,\n",
      "  \"hidden_act\": \"gelu\",\n",
      "  \"hidden_dropout_prob\": 0.1,\n",
      "  \"hidden_size\": 1024,\n",
      "  \"id2label\": {\n",
      "    \"0\": \"LABEL_0\",\n",
      "    \"1\": \"LABEL_1\"\n",
      "  },\n",
      "  \"initializer_range\": 0.02,\n",
      "  \"intermediate_size\": 4096,\n",
      "  \"is_decoder\": false,\n",
      "  \"label2id\": {\n",
      "    \"LABEL_0\": 0,\n",
      "    \"LABEL_1\": 1\n",
      "  },\n",
      "  \"layer_norm_eps\": 1e-12,\n",
      "  \"length_penalty\": 1.0,\n",
      "  \"max_length\": 20,\n",
      "  \"max_position_embeddings\": 512,\n",
      "  \"model_type\": \"bert\",\n",
      "  \"num_attention_heads\": 16,\n",
      "  \"num_beams\": 1,\n",
      "  \"num_hidden_layers\": 24,\n",
      "  \"num_labels\": 2,\n",
      "  \"num_return_sequences\": 1,\n",
      "  \"output_attentions\": false,\n",
      "  \"output_hidden_states\": true,\n",
      "  \"output_past\": true,\n",
      "  \"pad_token_id\": 0,\n",
      "  \"pruned_heads\": {},\n",
      "  \"repetition_penalty\": 1.0,\n",
      "  \"temperature\": 1.0,\n",
      "  \"top_k\": 50,\n",
      "  \"top_p\": 1.0,\n",
      "  \"torchscript\": false,\n",
      "  \"type_vocab_size\": 2,\n",
      "  \"use_bfloat16\": false,\n",
      "  \"vocab_size\": 30522\n",
      "}\n",
      "\n",
      "INFO:transformers.tokenization_utils:loading file https://s3.amazonaws.com/models.huggingface.co/bert/bert-large-uncased-whole-word-masking-vocab.txt from cache at /home/shauli/.cache/torch/transformers/b3a6b2c6d7ea2ffa06d0e7577c1e88b94fad470ae0f060a4ffef3fe0bdf86730.542ce4285a40d23a559526243235df47c5f75c197f04f37d1a0c124c32c9a084\n",
      "INFO:transformers.modeling_utils:loading weights file https://s3.amazonaws.com/models.huggingface.co/bert/bert-large-uncased-whole-word-masking-pytorch_model.bin from cache at /home/shauli/.cache/torch/transformers/66cc7a7501e3499efedc37e47b3a613e0d3d8d0a51c66224c69f0c669b52dcfb.ae11cc7f2a26b857b76b404a908c7abad793f88bf8ad95caecff154da87994b1\n"
     ]
    },
    {
     "name": "stdout",
     "output_type": "stream",
     "text": [
      "73447 150000\n"
     ]
    },
    {
     "data": {
      "application/vnd.jupyter.widget-view+json": {
       "model_id": "4f828ebb28c145c28eb2337c46af3f45",
       "version_major": 2,
       "version_minor": 0
      },
      "text/plain": [
       "HBox(children=(FloatProgress(value=0.0, max=50000.0), HTML(value='')))"
      ]
     },
     "metadata": {},
     "output_type": "display_data"
    },
    {
     "name": "stdout",
     "output_type": "stream",
     "text": [
      "\n",
      "avg neg distance:  5.758757645563588\n"
     ]
    }
   ],
   "source": [
    "data_positive = [d for d in data if len(d[\"doc\"]) > 12 and len(d[\"doc\"]) < 35 and d[\"label\"] == 1]\n",
    "bert = BertEncoder(device = \"cpu\")\n",
    "print(len(data_positive), len(data))\n",
    "data_with_bert_states = collect_bert_states2(bert, copy.deepcopy(data_positive[:50000]), layers = [18], by_rec = True, strategy = \"sum\")\n",
    "#data_with_bert_states = collect_bert_states(bert, copy.deepcopy(data[:2000]), layers = [-1], by_rec = True, strategy = \"sum\")"
   ]
  },
  {
   "cell_type": "code",
   "execution_count": 65,
   "metadata": {},
   "outputs": [
    {
     "name": "stdout",
     "output_type": "stream",
     "text": [
      "21.92924\n",
      "12\n",
      "34\n",
      "6.235195240653388\n"
     ]
    }
   ],
   "source": [
    "lengths = [len(d[\"doc\"]) for d in data]\n",
    "print(np.mean(lengths))\n",
    "print(np.min(lengths))\n",
    "print(np.max(lengths))\n",
    "print(np.std(lengths))"
   ]
  },
  {
   "cell_type": "code",
   "execution_count": null,
   "metadata": {},
   "outputs": [],
   "source": []
  },
  {
   "cell_type": "markdown",
   "metadata": {},
   "source": [
    "## Find best layer"
   ]
  },
  {
   "cell_type": "code",
   "execution_count": 87,
   "metadata": {},
   "outputs": [
    {
     "data": {
      "application/vnd.jupyter.widget-view+json": {
       "model_id": "69a8b8d199af4cb48644fcfed55d13e2",
       "version_major": 2,
       "version_minor": 0
      },
      "text/plain": [
       "HBox(children=(FloatProgress(value=0.0, max=1000.0), HTML(value='')))"
      ]
     },
     "metadata": {},
     "output_type": "display_data"
    },
    {
     "name": "stdout",
     "output_type": "stream",
     "text": [
      "\n",
      "avg neg distance:  5.835365853658536\n",
      "1 0.8938666666666669\n"
     ]
    },
    {
     "data": {
      "application/vnd.jupyter.widget-view+json": {
       "model_id": "9e717988395040fd9cd251fde742cc4b",
       "version_major": 2,
       "version_minor": 0
      },
      "text/plain": [
       "HBox(children=(FloatProgress(value=0.0, max=1000.0), HTML(value='')))"
      ]
     },
     "metadata": {},
     "output_type": "display_data"
    },
    {
     "name": "stdout",
     "output_type": "stream",
     "text": [
      "\n",
      "avg neg distance:  5.71\n",
      "2 0.8908666666666668\n"
     ]
    },
    {
     "data": {
      "application/vnd.jupyter.widget-view+json": {
       "model_id": "798d0aacc4c6493c81398c70a933083f",
       "version_major": 2,
       "version_minor": 0
      },
      "text/plain": [
       "HBox(children=(FloatProgress(value=0.0, max=1000.0), HTML(value='')))"
      ]
     },
     "metadata": {},
     "output_type": "display_data"
    },
    {
     "name": "stdout",
     "output_type": "stream",
     "text": [
      "\n",
      "avg neg distance:  6.019607843137255\n",
      "3 0.8860666666666672\n"
     ]
    },
    {
     "data": {
      "application/vnd.jupyter.widget-view+json": {
       "model_id": "6436f1a71a3543b480360ead5aa7ec80",
       "version_major": 2,
       "version_minor": 0
      },
      "text/plain": [
       "HBox(children=(FloatProgress(value=0.0, max=1000.0), HTML(value='')))"
      ]
     },
     "metadata": {},
     "output_type": "display_data"
    },
    {
     "name": "stdout",
     "output_type": "stream",
     "text": [
      "\n",
      "avg neg distance:  5.705508474576271\n",
      "4 0.8758\n"
     ]
    },
    {
     "data": {
      "application/vnd.jupyter.widget-view+json": {
       "model_id": "8ee7f1dfb8004735b578356b98082921",
       "version_major": 2,
       "version_minor": 0
      },
      "text/plain": [
       "HBox(children=(FloatProgress(value=0.0, max=1000.0), HTML(value='')))"
      ]
     },
     "metadata": {},
     "output_type": "display_data"
    },
    {
     "name": "stdout",
     "output_type": "stream",
     "text": [
      "\n",
      "avg neg distance:  5.806818181818182\n",
      "5 0.9038666666666669\n"
     ]
    },
    {
     "data": {
      "application/vnd.jupyter.widget-view+json": {
       "model_id": "5e4c3bb3c3dd4186b258c436cdc9c208",
       "version_major": 2,
       "version_minor": 0
      },
      "text/plain": [
       "HBox(children=(FloatProgress(value=0.0, max=1000.0), HTML(value='')))"
      ]
     },
     "metadata": {},
     "output_type": "display_data"
    },
    {
     "name": "stdout",
     "output_type": "stream",
     "text": [
      "\n",
      "avg neg distance:  5.70276008492569\n",
      "6 0.9337333333333332\n"
     ]
    },
    {
     "data": {
      "application/vnd.jupyter.widget-view+json": {
       "model_id": "962a874536784e86b32c46c7ced82fd2",
       "version_major": 2,
       "version_minor": 0
      },
      "text/plain": [
       "HBox(children=(FloatProgress(value=0.0, max=1000.0), HTML(value='')))"
      ]
     },
     "metadata": {},
     "output_type": "display_data"
    },
    {
     "name": "stdout",
     "output_type": "stream",
     "text": [
      "\n",
      "avg neg distance:  5.700836820083682\n",
      "7 0.9206666666666669\n"
     ]
    },
    {
     "data": {
      "application/vnd.jupyter.widget-view+json": {
       "model_id": "f60930879a6f4c4c8b3e07ef6948e67d",
       "version_major": 2,
       "version_minor": 0
      },
      "text/plain": [
       "HBox(children=(FloatProgress(value=0.0, max=1000.0), HTML(value='')))"
      ]
     },
     "metadata": {},
     "output_type": "display_data"
    },
    {
     "name": "stdout",
     "output_type": "stream",
     "text": [
      "\n",
      "avg neg distance:  5.434077079107505\n",
      "8 0.9237333333333333\n"
     ]
    },
    {
     "data": {
      "application/vnd.jupyter.widget-view+json": {
       "model_id": "d0a14d40f4b548fd8d3ebb9164f85609",
       "version_major": 2,
       "version_minor": 0
      },
      "text/plain": [
       "HBox(children=(FloatProgress(value=0.0, max=1000.0), HTML(value='')))"
      ]
     },
     "metadata": {},
     "output_type": "display_data"
    },
    {
     "name": "stdout",
     "output_type": "stream",
     "text": [
      "\n",
      "avg neg distance:  5.90138067061144\n",
      "9 0.9342666666666664\n"
     ]
    },
    {
     "data": {
      "application/vnd.jupyter.widget-view+json": {
       "model_id": "590dae276c124d0abcd1336a5906088a",
       "version_major": 2,
       "version_minor": 0
      },
      "text/plain": [
       "HBox(children=(FloatProgress(value=0.0, max=1000.0), HTML(value='')))"
      ]
     },
     "metadata": {},
     "output_type": "display_data"
    },
    {
     "name": "stdout",
     "output_type": "stream",
     "text": [
      "\n",
      "avg neg distance:  5.659574468085107\n",
      "10 0.9178666666666664\n"
     ]
    },
    {
     "data": {
      "application/vnd.jupyter.widget-view+json": {
       "model_id": "d51fbb7e419d40fb9f71ff1e4a5e4099",
       "version_major": 2,
       "version_minor": 0
      },
      "text/plain": [
       "HBox(children=(FloatProgress(value=0.0, max=1000.0), HTML(value='')))"
      ]
     },
     "metadata": {},
     "output_type": "display_data"
    },
    {
     "name": "stdout",
     "output_type": "stream",
     "text": [
      "\n",
      "avg neg distance:  6.0\n",
      "11 0.9116666666666665\n"
     ]
    },
    {
     "data": {
      "application/vnd.jupyter.widget-view+json": {
       "model_id": "0c384914dd8f4f01a43a71737cbd9502",
       "version_major": 2,
       "version_minor": 0
      },
      "text/plain": [
       "HBox(children=(FloatProgress(value=0.0, max=1000.0), HTML(value='')))"
      ]
     },
     "metadata": {},
     "output_type": "display_data"
    },
    {
     "name": "stdout",
     "output_type": "stream",
     "text": [
      "\n",
      "avg neg distance:  5.688755020080321\n",
      "12 0.9180666666666667\n"
     ]
    },
    {
     "data": {
      "application/vnd.jupyter.widget-view+json": {
       "model_id": "79e9a9b8a1b04735ba5cfc1296e1107e",
       "version_major": 2,
       "version_minor": 0
      },
      "text/plain": [
       "HBox(children=(FloatProgress(value=0.0, max=1000.0), HTML(value='')))"
      ]
     },
     "metadata": {},
     "output_type": "display_data"
    },
    {
     "name": "stdout",
     "output_type": "stream",
     "text": [
      "\n",
      "avg neg distance:  5.661943319838056\n",
      "13 0.9358666666666668\n"
     ]
    },
    {
     "data": {
      "application/vnd.jupyter.widget-view+json": {
       "model_id": "e8edfe5195cc4e01a6616fac52515012",
       "version_major": 2,
       "version_minor": 0
      },
      "text/plain": [
       "HBox(children=(FloatProgress(value=0.0, max=1000.0), HTML(value='')))"
      ]
     },
     "metadata": {},
     "output_type": "display_data"
    },
    {
     "name": "stdout",
     "output_type": "stream",
     "text": [
      "\n",
      "avg neg distance:  5.8354430379746836\n",
      "14 0.9099999999999996\n"
     ]
    },
    {
     "data": {
      "application/vnd.jupyter.widget-view+json": {
       "model_id": "b6a5fee8c5d54441b07440d20ece33b0",
       "version_major": 2,
       "version_minor": 0
      },
      "text/plain": [
       "HBox(children=(FloatProgress(value=0.0, max=1000.0), HTML(value='')))"
      ]
     },
     "metadata": {},
     "output_type": "display_data"
    },
    {
     "name": "stdout",
     "output_type": "stream",
     "text": [
      "\n",
      "avg neg distance:  5.7664092664092665\n",
      "15 0.9057333333333333\n"
     ]
    },
    {
     "data": {
      "application/vnd.jupyter.widget-view+json": {
       "model_id": "11e6f878e0f149b1ad4492fe749cebed",
       "version_major": 2,
       "version_minor": 0
      },
      "text/plain": [
       "HBox(children=(FloatProgress(value=0.0, max=1000.0), HTML(value='')))"
      ]
     },
     "metadata": {},
     "output_type": "display_data"
    },
    {
     "name": "stdout",
     "output_type": "stream",
     "text": [
      "\n",
      "avg neg distance:  5.717434869739479\n",
      "16 0.9069999999999999\n"
     ]
    },
    {
     "data": {
      "application/vnd.jupyter.widget-view+json": {
       "model_id": "71b1b024c28f4b9f8fd9f98a15e7e153",
       "version_major": 2,
       "version_minor": 0
      },
      "text/plain": [
       "HBox(children=(FloatProgress(value=0.0, max=1000.0), HTML(value='')))"
      ]
     },
     "metadata": {},
     "output_type": "display_data"
    },
    {
     "name": "stdout",
     "output_type": "stream",
     "text": [
      "\n",
      "avg neg distance:  5.828685258964144\n",
      "17 0.9128666666666665\n"
     ]
    },
    {
     "data": {
      "application/vnd.jupyter.widget-view+json": {
       "model_id": "b6285360d3ab4b25ab3c20eaadf78606",
       "version_major": 2,
       "version_minor": 0
      },
      "text/plain": [
       "HBox(children=(FloatProgress(value=0.0, max=1000.0), HTML(value='')))"
      ]
     },
     "metadata": {},
     "output_type": "display_data"
    },
    {
     "name": "stdout",
     "output_type": "stream",
     "text": [
      "\n",
      "avg neg distance:  5.729838709677419\n",
      "18 0.9108666666666668\n"
     ]
    },
    {
     "data": {
      "application/vnd.jupyter.widget-view+json": {
       "model_id": "c6aab17cb4d444959474e2d77304fc95",
       "version_major": 2,
       "version_minor": 0
      },
      "text/plain": [
       "HBox(children=(FloatProgress(value=0.0, max=1000.0), HTML(value='')))"
      ]
     },
     "metadata": {},
     "output_type": "display_data"
    },
    {
     "name": "stdout",
     "output_type": "stream",
     "text": [
      "\n",
      "avg neg distance:  5.787321063394683\n",
      "19 0.9159333333333333\n"
     ]
    },
    {
     "data": {
      "application/vnd.jupyter.widget-view+json": {
       "model_id": "14b4b7e029db46918e4cf1981013a46f",
       "version_major": 2,
       "version_minor": 0
      },
      "text/plain": [
       "HBox(children=(FloatProgress(value=0.0, max=1000.0), HTML(value='')))"
      ]
     },
     "metadata": {},
     "output_type": "display_data"
    },
    {
     "name": "stdout",
     "output_type": "stream",
     "text": [
      "\n",
      "avg neg distance:  5.733727810650888\n",
      "20 0.8893333333333335\n"
     ]
    },
    {
     "data": {
      "application/vnd.jupyter.widget-view+json": {
       "model_id": "e9751851d57a4daab4e373932d5d5e3b",
       "version_major": 2,
       "version_minor": 0
      },
      "text/plain": [
       "HBox(children=(FloatProgress(value=0.0, max=1000.0), HTML(value='')))"
      ]
     },
     "metadata": {},
     "output_type": "display_data"
    },
    {
     "name": "stdout",
     "output_type": "stream",
     "text": [
      "\n",
      "avg neg distance:  5.887295081967213\n",
      "21 0.9022666666666666\n"
     ]
    },
    {
     "data": {
      "application/vnd.jupyter.widget-view+json": {
       "model_id": "a0965d62dbaa425982e549372ec92d2e",
       "version_major": 2,
       "version_minor": 0
      },
      "text/plain": [
       "HBox(children=(FloatProgress(value=0.0, max=1000.0), HTML(value='')))"
      ]
     },
     "metadata": {},
     "output_type": "display_data"
    },
    {
     "name": "stdout",
     "output_type": "stream",
     "text": [
      "\n",
      "avg neg distance:  5.938524590163935\n",
      "22 0.9108666666666665\n"
     ]
    },
    {
     "data": {
      "application/vnd.jupyter.widget-view+json": {
       "model_id": "c5e1fcdcf9bc4d3b9eeb1c57caae179e",
       "version_major": 2,
       "version_minor": 0
      },
      "text/plain": [
       "HBox(children=(FloatProgress(value=0.0, max=1000.0), HTML(value='')))"
      ]
     },
     "metadata": {},
     "output_type": "display_data"
    },
    {
     "name": "stdout",
     "output_type": "stream",
     "text": [
      "\n",
      "avg neg distance:  5.797131147540983\n",
      "23 0.8551333333333334\n"
     ]
    }
   ],
   "source": [
    "\n",
    "\n",
    "for layer in range(1, 24):\n",
    "    \n",
    "    data_with_bert_states = collect_bert_states2(bert, copy.deepcopy(data_positive[:1000]), layers = [layer], by_rec = True, strategy = \"sum\")    \n",
    "    \n",
    "    vecs, labels = np.array([d[\"vec\"] for d in data_with_bert_states]), np.array([d[\"label\"] for d in data_with_bert_states])\n",
    "    l = int(len(vecs) * 0.8)\n",
    "    x_train, x_dev = vecs[:l], vecs[l:]\n",
    "    y_train, y_dev = labels[:l], labels[l:]\n",
    "\n",
    "    avg = 0\n",
    "    k = 75\n",
    "    for i in range(k):\n",
    "        model = LinearSVC(dual = False, max_iter = 10000) #SGDClassifier(max_iter = 200)\n",
    "        model = SGDClassifier(max_iter = 10000, alpha = 0.01)\n",
    "        model.fit(x_train, y_train)\n",
    "        score = model.score(x_dev, y_dev)\n",
    "        avg += score\n",
    "        \n",
    "    print(layer, avg/k)"
   ]
  },
  {
   "cell_type": "code",
   "execution_count": null,
   "metadata": {},
   "outputs": [],
   "source": [
    "with open(\"data_with_bert-large_states.pickle\", \"wb\") as f:\n",
    "    \n",
    "    pickle.dump(data_with_bert_states, f)"
   ]
  },
  {
   "cell_type": "markdown",
   "metadata": {},
   "source": [
    "## Do BERT CLS states clsuter to groups according to the presence of REC?"
   ]
  },
  {
   "cell_type": "code",
   "execution_count": 105,
   "metadata": {},
   "outputs": [],
   "source": [
    "def tsne(vecs, labels, title=\"\", ind2label = None, words = None, metric = \"l2\", color_gradient = False):\n",
    "\n",
    "  tsne = TSNE(n_components=2, random_state=0, metric = metric)\n",
    "  vecs_2d = tsne.fit_transform(vecs)\n",
    "  label_names = sorted(list(set(labels.tolist())))\n",
    "  num_labels = len(label_names)\n",
    "\n",
    "  #names = [\"digit={}\".format(int(i)) for i in labels.tolist()]\n",
    "  #names = [\"class {}\".format(i) for i in range(num_labels)]\n",
    "  names = sorted(set(labels.tolist()))\n",
    "\n",
    "  \n",
    "\n",
    "  if not color_gradient:\n",
    "      plt.figure(figsize=(6, 5))\n",
    "      colors = \"red\", \"blue\"\n",
    "      #colors = [(255,13,12) for n in names]\n",
    "    \n",
    "      for i, c, label in zip(sorted(set(labels.tolist())), colors, names):\n",
    "        #print(len(vecs_2d[labels == i, 0]))\n",
    "        plt.scatter(vecs_2d[labels == i, 0], vecs_2d[labels == i, 1], c=c,\n",
    "                    label=label if ind2label is None else ind2label[label], alpha = 0.3)\n",
    "      plt.legend()\n",
    "  \n",
    "\n",
    "  plt.title(title)"
   ]
  },
  {
   "cell_type": "code",
   "execution_count": 106,
   "metadata": {},
   "outputs": [
    {
     "name": "stdout",
     "output_type": "stream",
     "text": [
      "0.494875\n"
     ]
    }
   ],
   "source": [
    "vecs, labels = np.array([d[\"vec\"] for d in data_with_bert_states]), np.array([d[\"label\"] for d in data_with_bert_states])\n",
    "l = int(len(vecs) * 0.8)\n",
    "x_train, x_dev = vecs[:l], vecs[l:]\n",
    "y_train, y_dev = labels[:l], labels[l:]\n",
    "print(np.sum(y_train) / len(y_train))"
   ]
  },
  {
   "cell_type": "code",
   "execution_count": 107,
   "metadata": {},
   "outputs": [
    {
     "data": {
      "image/png": "[encoded data removed]",
      "text/plain": [
       "<Figure size 432x360 with 1 Axes>"
      ]
     },
     "metadata": {
      "needs_background": "light"
     },
     "output_type": "display_data"
    }
   ],
   "source": [
    "tsne(x_dev[:2500, :], y_dev[:2500], ind2label = {1: \"relcl\", 0: \"no-relc\"})"
   ]
  },
  {
   "cell_type": "markdown",
   "metadata": {},
   "source": [
    "## Predict the presence of REC from the representation"
   ]
  },
  {
   "cell_type": "code",
   "execution_count": 158,
   "metadata": {},
   "outputs": [
    {
     "name": "stdout",
     "output_type": "stream",
     "text": [
      "0.96132\n",
      "[-0.01622314 -0.06342715  0.01345789  0.06576001 -0.05442822 -0.03671712\n",
      "  0.03780464  0.06051453  0.07398621  0.01541912]\n"
     ]
    }
   ],
   "source": [
    "avg = 0.\n",
    "k = 10\n",
    "for i in range(k):\n",
    "    #model = LinearSVC(dual = False, max_iter = 10000) #SGDClassifier(max_iter = 200)\n",
    "    model = SGDClassifier(max_iter = 10000, alpha = 0.01)\n",
    "    model.fit(x_train, y_train)\n",
    "    avg += model.score(x_dev, y_dev)\n",
    "\n",
    "print(avg/k)\n",
    "print(model.coef_[0,:10])"
   ]
  },
  {
   "cell_type": "code",
   "execution_count": 110,
   "metadata": {},
   "outputs": [
    {
     "name": "stdout",
     "output_type": "stream",
     "text": [
      "10000 50000\n",
      "In all the time I was in the CID in the 1970s I never saw a copper in a leather bomber jacket and I never heard an officer call anyone 'guv ' .\n",
      "=======================================\n",
      "There were naval skirmishes , but no scholarly sources to establish that this was notable as a battle , and no sources that even give the skirmish a name .\n",
      "=======================================\n",
      "He suggested that children who are victims of sexual abuse depict a range of symptoms that include secrecy , helplessness , entrapment , accommodation , delayed and conflicted disclosure and recantation .\n",
      "=======================================\n",
      "The quarterly cultural magazine The Dublin Review is launched by Brendan Barrington .\n",
      "=======================================\n",
      "I would still like to ask whether it is appropriate to delete the original of images that are identical , when that loses its history of prior uploads .\n",
      "=======================================\n",
      "One of the first products to use Konarka 's cells was to be briefcases that could recharge laptops .\n",
      "=======================================\n",
      "AIV board where issuing multiple warnings is the correct method of procedure .\n",
      "=======================================\n",
      "In Stockbridge , Massachusetts , where he has the Image Gallery , at the request of Norman Rockwell , he took photographs staged by Rockwell which Rockwell then used to create his illustrations .\n",
      "=======================================\n",
      "In addition , Kondratii Selivanov , who led a castrating sect known as the Skoptsy , claimed to be both Jesus and Peter III .\n",
      "=======================================\n",
      "Worton , who acted as interim chief until 1950 , when William H .\n",
      "=======================================\n",
      "At the library , Ma Ferd finds Sarah crying , but Ma convinces the sobbing librarian that her mutant son is n't that much different from other men .\n",
      "=======================================\n",
      "A dragon that lives in the Gap Chasm that runs the length of Xanth .\n",
      "=======================================\n",
      "The term Yichud is found in Halakha ( Jewish law ) , denoting male-female `` seclusion '' .\n",
      "=======================================\n",
      "These accounts are transmitted to the Court of Audit , which verifies the accuracy , the reliability and the completeness of the entries in the financial statements .\n",
      "=======================================\n",
      "The unit cells are materials that are ordered in geometric arrangements with dimensions that are fractions of the wavelength of the radiated electromagnetic wave .\n",
      "=======================================\n",
      "Birks , which is itself a satellite of St Sunday Crag , resides on a southwest to northeast ridge .\n",
      "=======================================\n",
      "Currently the association does not have the resources to mainain the battle and neither the observatory nor the planetarium in Givat Ram do function in their designated purposes .\n",
      "=======================================\n",
      "The first article you mentioned could very probably give hints on how to administer telomerase .\n",
      "=======================================\n",
      "Michelle Wie , who had been in a three-way tie for the lead after the third round , balloons to a final-round 82 and finishes level with Sörenstam .\n",
      "=======================================\n",
      "In 2007 the attraction was sold to research ecologists who have since gone on to develop research and conservation projects based at the aquarium , as well as several community conservation initiatives .\n",
      "=======================================\n",
      "Salieri also reworked the material into an Italian version retitled Axur , re d'Ormus with libretto by Lorenzo da Ponte , which opened in Vienna in January 1788 .\n",
      "=======================================\n",
      "Perhaps I have missed something , but I have never noticed newly-approved admins to drastically change their styles so as to be like the users who nominated them .\n",
      "=======================================\n",
      "A calm and stoic character that appears in the second half of the series , he subtly represents an albino-like figure with his silver hair and plain white clothes .\n",
      "=======================================\n",
      "The only issue I see is some edit warring by the OP , but since they have also started a talk page discussion , lets hope things develop there instead .\n",
      "=======================================\n",
      "ISO 639 name to be used as well as the language name , made months ago and working fine since , which caused the break and undid the change .\n",
      "=======================================\n",
      "Some of those who had planning responsibilities included Lieutenant Colonel Ronald McNicoll , who served on the Operations Staff of the Supreme Headquarters Allied Expeditionary Force ; Jackson ( 2004 ) , p .\n",
      "=======================================\n",
      "A piece takes much more time to do , making them harder to paint on private property .\n",
      "=======================================\n",
      "As in the case of studying other sacred scriptures he tried to delve deep into the true spirit of the Qur'an directly from original text .\n",
      "=======================================\n",
      "Marbles the Magnificent is Rita 's Monkey friend who is always helping her out of perilous situations - though she hardly realizes it .\n",
      "=======================================\n",
      "NOT part of the surrounding counties , which can be confusing when you have the city of Fairfax , surrounded by the county of Fairfax .\n",
      "=======================================\n",
      "They were the first cast members in the show 's history to survive featured status , unlike that of Tricia Dickson , Victor-Cohn Lopez and Zach McLemore in past seasons .\n",
      "=======================================\n",
      "During the mid-1990s he left Morocco for Switzerland in order to study for a semester in Geneva .\n",
      "=======================================\n",
      "The site where Trinity College now stands was originally occupied by Durham College , built for Benedictine monks from Durham Cathedral .\n",
      "=======================================\n",
      "Chandigarh is the ideal place to start off if you intend to visit the temple .\n",
      "=======================================\n",
      "That is not to say there was not abuse - that I do not know - but without evidence to the contrary I feel unable to support this finding of fact .\n",
      "=======================================\n",
      "THE FIFTH CHAMPIONSHIP '' Like a cabal or something predestined , also spent another 9 years until 1970 for her to get another championship again .\n",
      "=======================================\n",
      "Bayazuddin had two sons Mohammad Ismail ( married to cousin Sughra daughter of Hafiz Abdul Latif ) and Mohammad Shafi ( married to the daughter of Kamdar Abdul Matin 'Matin ' ) .\n",
      "=======================================\n",
      "It is sad however , that people who place false things on their websites , ruin it for other who only place the facts on their websites .\n",
      "=======================================\n",
      "N Codes which specifies ALL Options Built INto that Particular Auto -- Here 's My Problem !\n",
      "=======================================\n",
      "Class actions are run by law firms who expect to collect a large sum of money , both for members of the class and for themselves .\n",
      "=======================================\n",
      "He emphasizes that `` Nothing but confusion can arise from reading into one dispensation that which relates to another .\n",
      "=======================================\n",
      "During the mid-1990s he left Morocco for Switzerland in order to study for a semester in Geneva .\n",
      "=======================================\n",
      "The term Janeite has been both embraced by devotees of the works of Jane Austen and used as a term of opprobrium .\n",
      "=======================================\n",
      "By contrast , the only objective way to monitor linguistic use is to start blacklisting words and phrases , something for which there will never be consensus .\n",
      "=======================================\n",
      "At the time she joined the bandits she was semi-estranged from her husband , José Nenem , a cobbler .\n",
      "=======================================\n",
      "I am nominating myself to be an admin becuase I would like to help with monitoring for vandalism and clearing out the backlogs on several pages .\n",
      "=======================================\n",
      "She is a gutsy little performer , who at 20 looks young enough to play a 16 year old but has that maturity level , which her character is supposed to have .\n",
      "=======================================\n",
      "For the first time a European national team , Spain ( for the first time finalist and winner ) , win the FIFA World Cup outside the European soil .\n",
      "=======================================\n",
      "Fluorouracil or 5-FU ( trademarked as Efudex ) is a drug that is a pyrimidine analog which is used in the treatment of cancer .\n",
      "=======================================\n",
      "No claim had been made that that the material is inflammatory or defamatory , so the point you have just made does not apply .\n",
      "=======================================\n",
      "A rookie ISA soldier who helps in take down Stahls cruiser before the nuke is dropped on it .\n",
      "=======================================\n",
      "This simplifies the production process twofold ; not only can this step be skipped , but the absence of this layer makes the process of constructing a contact scheme much simpler .\n",
      "=======================================\n",
      "The type of case you refer to would depend on speedy deleletion criterion A7 , but make sure it needs deletion instead of rewording .\n",
      "=======================================\n",
      "Among a mix of attendees this varied and energized , attending filmmakers and guests alike are sure to expand their network and encounter incredible new stories .\n",
      "=======================================\n",
      "CORE policy that original research can be removed on sight , it is also core policy that editors can remove unsourced material on sight .\n",
      "=======================================\n",
      "I am not the first to say this as the consult psychiatrist believed this to , see my diff above .\n",
      "=======================================\n",
      "Lisa is Joan of Arc , who leads the French against the English in the Hundred Years ' War , which Homer implies was also called `` Operation Speedy Resolution '' .\n",
      "=======================================\n",
      "Earth from which we observe the SunI assume that the point from which we observe the Sun is on the longitude that is exactly facing away from the Sun ( i .\n",
      "=======================================\n",
      "B , and a summerhouse they called `` Hagen '' , bought in 1917 , in the north eastern part of the island of Lidingö outside Stockholm .\n",
      "=======================================\n",
      "Sarah triumphs when chosen to ride out with the hunt , but blots her copybook , and brings the school into disgrace , when she unfurls an Aussie pennant at full tilt .\n",
      "=======================================\n",
      "In its heyday , between 1709 and 1859 Swineford had an active brass and copper industry which were served by the river which also provided water power for the cloth industry .\n",
      "=======================================\n",
      "By the way , according to some research I did years ago for an article on orbat .\n",
      "=======================================\n",
      "Israel reiterates its demand to release the abducted soldier Gilad Shalit , and end Qassam rocket attacks on Israeli towns , for an immediate cease fire to take place .\n",
      "=======================================\n",
      "I specifically wanted to avoid giving examples that involve edits in which I was personally involved , either as the author or as a later contributor to the edits that were dismissively destroyed .\n",
      "=======================================\n",
      "Malta Plateau ] ] to enter [ [ Seafarer Glacier ] ] , in the [ [ Victory Mountains ] ] , [ [ Victoria Land ] ] .\n",
      "=======================================\n",
      "I do not believe a more splendid field for colonisation than the one I have endeavoured to describe is likely to be met with .\n",
      "=======================================\n",
      "If there is unexplained and unreasonable delay in putting up the accused people for a test identification the delay by itself detracts from the credibility of the test ; Raj Nath v .\n",
      "=======================================\n",
      "His granddaughter , Françoise Gaudelet d'Armenonville will marry Auguste de Rambaud , who is the son of Agathe de Rambaud , then in her second marriage to the count Amédée d'Allonville .\n",
      "=======================================\n",
      "Any editor who uses their tools in such a way should have said tools removed , whether that be these tools , adminship or founder status .\n",
      "=======================================\n",
      "Ditchfield state it was built in 1881 but Nikolaus Pevsner states it was built in 1860 .\n",
      "=======================================\n",
      "Each group faces the same challenges in promoting localizations of their overall standards in ways that can be quickly verified and adopted .\n",
      "=======================================\n",
      "I 've noticed in old movies about the Russian revolution the communists are almost always shown wearing leather coats and jackets ( think of Dr Zhivago ) .\n",
      "=======================================\n",
      "In 1936 , the club formed a third team which entered the Philadelphia Workers League and three years later a youth system was established which tended to compete against the Lighthouse Boys Club .\n",
      "=======================================\n",
      "And anything else has links in the text to back it up , I cant think of any references that arent already there to back up the text .\n",
      "=======================================\n",
      "Young women who wish to become geisha now most often begin their training after completing middle school , high school , or even college .\n",
      "=======================================\n",
      "Ditchfield state it was built in 1881 but Nikolaus Pevsner states it was built in 1860 .\n",
      "=======================================\n",
      "Mirandese ( a regional language spoken in the northeastern Portuguese region of Miranda do Douro ) uses the prefix ou already present in words like European ( Ouropeu ) .\n",
      "=======================================\n",
      "For Operation Dragoon , the landings of southern France in August 1944 , Lowry commanded Task Force 84 , also known as Alpha Force , which transported and Major General John W .\n",
      "=======================================\n",
      "It was elicited from him in the course of the proceedings that he was incapable at the time alluded to of identifying either Wakeman 's person or his handwriting .\n",
      "=======================================\n",
      "The nerves that operate the chromatophores are thought to be positioned in the brain in a pattern similar to that of the chromatophores they each control .\n",
      "=======================================\n",
      "The river flooded in 1895 following heavy rains when the swollen river rose swiftly causing several near drownings among the settlers who lived along the banks at the township of Arthur River .\n",
      "=======================================\n",
      "The crankshaft has a linear axis about which it rotates , typically with several bearing journals riding on replaceable bearings ( the main bearings ) held in the engine block .\n",
      "=======================================\n",
      "There were several years where he enthralled the Tamil mythological movie and magazine industry to the extent of producers and publishers publicised and encashed their projects with ShakthiDass title in advertisements and cutouts .\n",
      "=======================================\n",
      "Byzantine period through contributions which include 96 DYKs , 20 good articles , one featured article , one featured picture and numerous other article and image creations .\n",
      "=======================================\n",
      "With this method , fishermen surrounded dolphin pods along with the tuna they were catching and the dolphins were given no chance to escape before the nets were lifted .\n",
      "=======================================\n",
      "However , the heavy rain that had fallen at the end of October hampered the build up of stores and consequently delayed Australian preparations for the attack .\n",
      "=======================================\n",
      "First integrals ( for ordinary differential equations ) are functions that remain constant along any given solution of the system , the constant depending on the solution .\n",
      "=======================================\n",
      "Arroyo , saying that the event which has become known as EDSA II , installed a president who was reported in February 2008 by the Philippine newspaper The Daily Tribune as `` .\n",
      "=======================================\n",
      "Several small openings were made in the structure for the positioning of bows and arrows , which can be seen even today .\n",
      "=======================================\n",
      "Nonetheless , because diploma mills have claimed false UNESCO accreditation , UNESCO itself has published warnings against education organizations that claim UNESCO recognition or affiliation .\n",
      "=======================================\n",
      "Some sections should also be turned from lists to prose , for instance compare the education sections in Toronto and Montreal .\n",
      "=======================================\n",
      "After the papal condemnation of the latter 's teachings Baltzer submitted indeed , but his independent spirit led him into further difficulties , and he was suspended in 1862 .\n",
      "=======================================\n",
      "Scarlet red symbolizes courage or inner strength to face the unknown , and white symbolizes the goodness and purity of spirit embodied in helping one 's fellow man .\n",
      "=======================================\n",
      "If I find more references I will add them to the article .\n",
      "=======================================\n",
      "T386 was the first locomotive to receive any El Zorro branding , receiving a Z painted on the end of each hood .\n",
      "=======================================\n",
      "Richard had two brothers who also emigrated to the United States , and a sister who married in Vienna .\n",
      "=======================================\n",
      "A piece takes much more time to do , making them harder to paint on private property .\n",
      "=======================================\n",
      "Reiner remained in this position until 1995 when he was appointed head officer of the `` Department of Internal Medicine '' at the University Hospital Centre , Zagreb .\n",
      "=======================================\n",
      "The cars where advertised as `` sturdy , compact , and low-upkeep '' .\n",
      "=======================================\n",
      "He tells Shepard the only way to stop David is to infiltrate the fortified laboratory in Atlas Station , but only after overriding the security at nearby Vulcan and Prometheus Stations .\n",
      "=======================================\n"
     ]
    }
   ],
   "source": [
    "preds_dev = model.predict(x_dev)\n",
    "mistakes = preds_dev != y_dev\n",
    "mistakes_idx = np.arange(len(x_dev))[mistakes]\n",
    "mistakes_idx[:100]\n",
    "dev_data = data_with_bert_states[l:]\n",
    "print(len(mistakes), len(data_with_bert_states))\n",
    "mistakes_data = [d for i,d in enumerate(dev_data) if mistakes[i]]\n",
    "\n",
    "mistakes_data[0]\n",
    "for i in range(100):\n",
    "    print(mistakes_data[i][\"doc\"])\n",
    "    print(\"=======================================\")"
   ]
  },
  {
   "cell_type": "markdown",
   "metadata": {},
   "source": [
    "## INLP"
   ]
  },
  {
   "cell_type": "code",
   "execution_count": 111,
   "metadata": {},
   "outputs": [],
   "source": [
    "inlp_dataset = inlp_dataset_handler.ClassificationDatasetHandler(x_train, y_train, x_dev, y_dev, dropout_rate = 0, Y_train_main = None, Y_dev_main = None, by_class = False, equal_chance_for_main_task_labels = False)\n",
    "#inlp_model_handler = inlp_linear_model.SKlearnClassifier(LinearSVC, {\"dual\": False, \"max_iter\": 5000})\n",
    "inlp_model_handler = inlp_linear_model.SKlearnClassifier(SGDClassifier, {\"max_iter\": 10000, \"alpha\": 0.01, \"n_iter_no_change\": 10})"
   ]
  },
  {
   "cell_type": "code",
   "execution_count": 159,
   "metadata": {},
   "outputs": [
    {
     "name": "stderr",
     "output_type": "stream",
     "text": [
      "\n",
      "  0%|          | 0/3 [00:00<?, ?it/s]\u001b[A\n",
      "iteration: 0, accuracy: 0.9625:   0%|          | 0/3 [00:01<?, ?it/s]\u001b[A\n",
      "iteration: 0, accuracy: 0.9625:  33%|███▎      | 1/3 [00:02<00:05,  2.65s/it]\u001b[A\n",
      "iteration: 1, accuracy: 0.9208:  33%|███▎      | 1/3 [00:04<00:05,  2.65s/it]\u001b[A\n",
      "iteration: 1, accuracy: 0.9208:  67%|██████▋   | 2/3 [00:05<00:02,  2.72s/it]\u001b[A\n",
      "iteration: 2, accuracy: 0.8786:  67%|██████▋   | 2/3 [00:07<00:02,  2.72s/it]\u001b[A\n",
      "iteration: 2, accuracy: 0.8786: 100%|██████████| 3/3 [00:08<00:00,  2.95s/it]\u001b[A\n"
     ]
    }
   ],
   "source": [
    "P, rowspace_projections, Ws = inlp.run_INLP(num_classifiers = 3, input_dim = 1024, is_autoregressive = True, min_accuracy = 0, dataset_handler = inlp_dataset, model = inlp_model_handler)"
   ]
  },
  {
   "cell_type": "code",
   "execution_count": 170,
   "metadata": {},
   "outputs": [],
   "source": [
    "P_rowspace = np.eye(P.shape[0]) - P"
   ]
  },
  {
   "cell_type": "code",
   "execution_count": 161,
   "metadata": {},
   "outputs": [
    {
     "data": {
      "application/vnd.jupyter.widget-view+json": {
       "model_id": "5a6ec05c619e4571b81f4e26dbba948b",
       "version_major": 2,
       "version_minor": 0
      },
      "text/plain": [
       "HBox(children=(FloatProgress(value=0.0, max=19795.0), HTML(value='')))"
      ]
     },
     "metadata": {},
     "output_type": "display_data"
    },
    {
     "name": "stdout",
     "output_type": "stream",
     "text": [
      "\n",
      "If that helps there are ways to make the priority permanently increase .\n",
      "======================================\n",
      "It reminds me of the past and everything my parents thought me .\n",
      "======================================\n",
      "But some residents believe the poor weather during Super Bowl week negatively impacted the city 's chances of hosting another Super Bowl , including the bid it lost for the 2009 Super Bowl .\n",
      "======================================\n",
      "With the loss of Griff , Zone decides that it 's time for Iris to have a gun to protect herself .\n",
      "======================================\n",
      "Upon interviewing the remaining crew with conflicting accounts the general consensus was the mutiny occurred on December 29 , 1992 when a dispute between a smuggler and the captain broke out .\n",
      "======================================\n",
      "======================================================================\n",
      "If that helps there are ways to make the priority permanently increase .\n",
      "======================================\n",
      "Kinks ' frontman Ray Davies , remembering his older sister going on dates to the local Palais dance hall where big bands would play .\n",
      "======================================\n",
      "Hage-danuki , who praised , `` well done , my opponent '' in a loud voice , was told by the soldier , `` insolent fellow !\n",
      "======================================\n",
      "The centre is unusual in that it is built on stilts over Prince 's Dock after which it is named .\n",
      "======================================\n",
      "Shepard met Academy-Award-winning actress Jessica Lange on the set of the film Frances , in which they were both acting .\n",
      "======================================\n",
      "The report also observes that there are economic benefits from reducing the size of irregularity which have not yet been addressed .\n",
      "======================================\n",
      "Players are also presented with a private studio where they can practice , and save or share drawings with others .\n",
      "======================================\n",
      "It started with something that sounded very corporate-like and was obviously getting deleted .\n",
      "======================================\n",
      "While anyone you ask might say that depression is caused by a serotonin deficiency , experts in the field would disagree .\n",
      "======================================\n",
      "Much later , he decided to try a second `` Beautiful Love '' , which he later preferred .\n",
      "======================================\n"
     ]
    }
   ],
   "source": [
    "relc_vecs = np.array([x for x,y in zip(x_train, y_train) if y == 1])\n",
    "relc_data = [d for d in data_with_bert_states[:l] if d[\"label\"] == 1]\n",
    "relc_vecs.shape\n",
    "relc_vecs_projected = P_rowspace.dot(relc_vecs.T).T\n",
    "\n",
    "relc_vecs_projected_low_dim = []\n",
    "for v in tqdm.notebook.tqdm(relc_vecs, total = len(relc_vecs)):\n",
    "    \n",
    "    v_rowspace = []\n",
    "    for w in Ws:\n",
    "        \n",
    "        w_norm = w/np.linalg.norm(w)\n",
    "        v_rowspace.append(w_norm.dot(v.T).item())\n",
    "    \n",
    "    v_rowspace = np.array(v_rowspace)\n",
    "    relc_vecs_projected_low_dim.append(v_rowspace)\n",
    "    \n",
    "relc_vecs_projected_low_dim = np.array(relc_vecs_projected_low_dim)\n",
    "\n",
    "is_reduced = np.array([True if d[\"is_reduced\"] else False for d in relc_data])\n",
    "\n",
    "vecs_reduced_relc = relc_vecs[is_reduced]\n",
    "model.score(vecs_reduced_relc, np.ones(len(vecs_reduced_relc)))\n",
    "is_reduced_docs = [d[\"doc\"] for i,d in enumerate(relc_data) if is_reduced[i]]\n",
    "for i in range(5):\n",
    "    print(is_reduced_docs[i])\n",
    "    print(\"======================================\")\n",
    "print(\"======================================================================\")\n",
    "    \n",
    "is_obj_relc = np.array([True if d[\"doc\"][d[\"relc_borders\"][-1]].pos_ == \"VERB\" else False for d in relc_data])\n",
    "is_obj_relc_docs = [d[\"doc\"] for i,d in enumerate(relc_data) if is_obj_relc[i]]\n",
    "vecs_obj_relc = relc_vecs[is_obj_relc]\n",
    "\n",
    "for i in range(10):\n",
    "    print(is_obj_relc_docs[i])\n",
    "    print(\"======================================\")"
   ]
  },
  {
   "cell_type": "code",
   "execution_count": 162,
   "metadata": {},
   "outputs": [
    {
     "data": {
      "text/plain": [
       "(19795, 3)"
      ]
     },
     "execution_count": 162,
     "metadata": {},
     "output_type": "execute_result"
    }
   ],
   "source": [
    "relc_vecs_projected_low_dim.shape"
   ]
  },
  {
   "cell_type": "code",
   "execution_count": 175,
   "metadata": {},
   "outputs": [
    {
     "data": {
      "image/png": "[encoded data removed]",
      "text/plain": [
       "<Figure size 432x360 with 1 Axes>"
      ]
     },
     "metadata": {
      "needs_background": "light"
     },
     "output_type": "display_data"
    }
   ],
   "source": [
    "tsne(relc_vecs_projected_low_dim[:3000], is_reduced[:3000], ind2label = {1: \"reduced_relc\", 0: \"not-reduced-relcl\"})"
   ]
  },
  {
   "cell_type": "code",
   "execution_count": 164,
   "metadata": {},
   "outputs": [],
   "source": [
    "\n",
    "def to_string(np_array):\n",
    "        return \"\\t\".join([\"%0.4f\" % x for x in np_array])\n",
    "\n",
    "\n",
    "def save_vecs_and_labels(vecs, is_reduced_labels, is_object_labels, data):\n",
    "    \n",
    "    with open(\"vecs.tsv\", \"w\") as f:\n",
    "        \n",
    "        for v in vecs:\n",
    "            \n",
    "            f.write(to_string(v) + \"\\n\")\n",
    "    \n",
    "    with open(\"labels.tsv\", \"w\") as f:\n",
    "        \n",
    "        f.write(\"sent\" + \"\\t\" + \"relc\" + \"\\t\" + \"is_reduced\" + \"\\t\" + \"is_obj\" + \"\\t\" + \"length\" + \"\\n\")\n",
    "        \n",
    "        for d, is_reduced, is_obj in zip(data, is_reduced_labels, is_object_labels):\n",
    "        \n",
    "            sent = [tok.text for tok in d[\"doc\"]]\n",
    "            borders = d[\"relc_borders\"]\n",
    "            length = abs(borders[1] - borders[0])\n",
    "            \n",
    "            for j,w in enumerate(sent):\n",
    "            \n",
    "                if j >= borders[0] and j <= borders[1]:\n",
    "                \n",
    "                    sent[j] = w.upper()\n",
    "            \n",
    "            relc = sent[borders[0]:borders[1]+1]\n",
    "            f.write(\" \".join(sent) + \"\\t\"  + \" \".join(relc).lower() + \"\\t\" + str(is_reduced) + \"\\t\" + str(is_obj) + \"\\t\" + str(length) + \"\\n\")\n",
    "            \n",
    "        "
   ]
  },
  {
   "cell_type": "code",
   "execution_count": 165,
   "metadata": {},
   "outputs": [],
   "source": [
    "save_vecs_and_labels(relc_vecs_projected_low_dim, is_reduced, is_obj_relc, relc_data)"
   ]
  },
  {
   "cell_type": "code",
   "execution_count": 166,
   "metadata": {},
   "outputs": [
    {
     "data": {
      "text/plain": [
       "40000"
      ]
     },
     "execution_count": 166,
     "metadata": {},
     "output_type": "execute_result"
    }
   ],
   "source": [
    "len(x_train)"
   ]
  },
  {
   "cell_type": "code",
   "execution_count": null,
   "metadata": {},
   "outputs": [],
   "source": [
    "cosine_sims_reduced = sklearn.metrics.pairwise.cosine_similarity(vecs_reduced_relc)\n",
    "cosins_sims_obj = sklearn.metrics.pairwise.cosine_similarity(vecs_obj_relc)\n",
    "cosine_sims_all = sklearn.metrics.pairwise.cosine_similarity(relc_vecs)\n",
    "\n",
    "\n",
    "cosine_sims_reduced_after = sklearn.metrics.pairwise.cosine_similarity(P_rowspace.dot(vecs_reduced_relc.T).T)\n",
    "cosins_sims_obj_after = sklearn.metrics.pairwise.cosine_similarity(P_rowspace.dot(vecs_obj_relc.T).T)\n",
    "cosine_sims_all_after = sklearn.metrics.pairwise.cosine_similarity(P_rowspace.dot(relc_vecs.T).T)"
   ]
  },
  {
   "cell_type": "code",
   "execution_count": null,
   "metadata": {
    "scrolled": false
   },
   "outputs": [],
   "source": [
    "print(np.mean(cosine_sims_reduced), np.mean(cosine_sims_reduced_after))\n",
    "print(np.mean(cosine_sims_all), np.mean(cosins_sims_obj_after))\n",
    "print(np.mean(cosins_sims_obj), np.mean(cosine_sims_all_after))"
   ]
  },
  {
   "cell_type": "code",
   "execution_count": 169,
   "metadata": {},
   "outputs": [
    {
     "data": {
      "text/plain": [
       "(19795, 1024)"
      ]
     },
     "execution_count": 169,
     "metadata": {},
     "output_type": "execute_result"
    }
   ],
   "source": [
    "relc_vecs.shape"
   ]
  },
  {
   "cell_type": "code",
   "execution_count": null,
   "metadata": {},
   "outputs": [],
   "source": []
  }
 ],
 "metadata": {
  "kernelspec": {
   "display_name": "Python 3",
   "language": "python",
   "name": "python3"
  },
  "language_info": {
   "codemirror_mode": {
    "name": "ipython",
    "version": 3
   },
   "file_extension": ".py",
   "mimetype": "text/x-python",
   "name": "python",
   "nbconvert_exporter": "python",
   "pygments_lexer": "ipython3",
   "version": "3.7.6"
  }
 },
 "nbformat": 4,
 "nbformat_minor": 4
}
